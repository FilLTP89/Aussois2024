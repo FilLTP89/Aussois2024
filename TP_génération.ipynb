{
  "cells": [
    {
      "cell_type": "markdown",
      "metadata": {
        "id": "IgL9s-Eb_8FO"
      },
      "source": [
        "# La Génération de Texte"
      ]
    },
    {
      "cell_type": "markdown",
      "metadata": {
        "id": "pHsHOTW1_8FP"
      },
      "source": [
        "Pour plus d’information et si vous souhaitez jeter un coup d’oeil au code de huggingface, il est disponible ici :\n",
        "https://github.com/huggingface/transformers/tree/main/src/transformers/generation"
      ]
    },
    {
      "cell_type": "code",
      "execution_count": 1,
      "metadata": {
        "id": "3smA7foG_8FQ"
      },
      "outputs": [],
      "source": [
        "from transformers import AutoModelForCausalLM, AutoTokenizer\n",
        "import torch"
      ]
    },
    {
      "cell_type": "code",
      "execution_count": 2,
      "metadata": {
        "id": "8cnwtozK_8FQ"
      },
      "outputs": [],
      "source": [
        "device = \"cuda\" if torch.cuda.is_available() else \"cpu\""
      ]
    },
    {
      "cell_type": "code",
      "execution_count": 3,
      "metadata": {
        "id": "SZgxTlGK_8FQ",
        "outputId": "a78dddff-fdbe-465a-8a42-5af7e1cd423a",
        "colab": {
          "base_uri": "https://localhost:8080/",
          "height": 365,
          "referenced_widgets": [
            "afd7ab8b83544b8eab74e8c1a9cf1f2a",
            "cd9a345e57de4ac08dd9c3bc7d1aecbf",
            "128152013d4f40818ac54800e7b94247",
            "cd13d22404e54ce699266b6d7812fe24",
            "6e37a02dea704c75b9f1004c75314ade",
            "83da712c714d4951a55096c6d2ef2bc3",
            "2a61abfaefd843fc81a31694323e45d2",
            "67c6c1e12be04786a763af419455a015",
            "dc9b34e9e9944b7baae52c447198bd46",
            "e200f9ac0ef34c599cabe62eb76abeb9",
            "998f903221ef4792b02bd21b0159c038",
            "c8e64a41a9e949b688f636caba17e14a",
            "8cdb85fa4e5e41dbaec1b8e4df0981a7",
            "862254c02bae42adb6a9bcdb786d9e1f",
            "70e2bb2ded2d486f8b848f69c1ede19e",
            "3e3f39ba2cb6492bb97a2e2bcb300ece",
            "87fd8e4ad8ab43f7a83ef0e27c8a7754",
            "937736e210ab4512b474f5026cf88628",
            "180fc80352d443b1bbad3179e3f717cb",
            "08fe3ec238d2494aa0d734a877c5fe1c",
            "0819a96a01294b7abb130b3143a0d37c",
            "2f1dbb619ea4456da3fdaa92c5e9d8ac",
            "50ae9c97d96c405585ffd925efdfbb15",
            "210e139bbd3a40f7ab64b278c55ef395",
            "d75a04c966de4ea4821f743c3c20ac06",
            "e2e6d6e693aa48068a34961266647a4c",
            "d33212b159944d9691b669fccdd9e8aa",
            "1eb8e0c66e0b47b98636904ee5ed512f",
            "5b618ab724704be9a67e37cf764a69ab",
            "1d67bd3c067e44c6b74b47e4e39770a7",
            "b79191ee1f1349f5a3b3c28c60d84fd8",
            "d37a16e142de476a98c8fd939b1306c1",
            "f3e52b4a8b344a478ff3f95780cfc6e6",
            "71e8c668bf714a7585246f5abedf9c07",
            "01a4ae346861472994c889c064c47e07",
            "45b9e2ec5eb54827ac1365bcdcdf581a",
            "4dcbfec1643242089802acc9406637b6",
            "2d38e96aa03e4ec4b384ebd323986891",
            "47e5d00ee31c466aae636631591e2056",
            "15aeaa163e5b4fa29d0bd7f8e8de67fe",
            "71d5512670cf43069947285083140535",
            "620e70b06ee545329ba783986e3fecdf",
            "97d41134ae294080a528c03432949e11",
            "9e78c3e8837549fa9ba8c57f9116ec59",
            "6dfdb44bbfd74f43b88b7c96615927a2",
            "cd489aa927d14a11a30619edb408fb78",
            "97f1529761a0493e8959bd9cc1ea936c",
            "2aaa618c13cb4a4caeecc6d4d54486d1",
            "8678e2f391b445a6a9177c39b4240328",
            "d5bb8807af6c4606b0406999204aeaaf",
            "76db3aea4c4b41109b329121731c4cd5",
            "da8007dd5a4f4c10a89b816ffb1e964d",
            "6c31602c498b40adbd582846bd2ec471",
            "867bfdd419cb4d8ca62322d0fda97579",
            "968338ef13894440b74437d86bcbcd8f",
            "0fcce4e433e04708a3335a247e3dd500",
            "74119c4b56ca4223b69079d43374ae7d",
            "14a10a7f85aa4eaca16bd42a2443f9aa",
            "ba8da38cdb3840d68276db3327ccaf99",
            "4b11d10c67714c068105ae303fd52053",
            "66249308a1a749a8bebe0f97ee617bd9",
            "8dfb7095073a4355a5283c6089a18e5c",
            "55bd6997fad2489883cb528087256b36",
            "0a3fa94edb7b490c95ef975e9b6699cc",
            "ab1660646eb44909b325fbc2ec2fe4b0",
            "0fbf9719ba144fdfa5b613db142e6678",
            "04c75a504c40413f99c8dae647e72560",
            "8ad24865a6894787bd2d8ad7f1a09486",
            "44cd3fcde4544a3d988b6d919096745b",
            "ed1b50203e944090a35e0631d19d6011",
            "ec42c373fdc44599b517b4bd1fd5d238",
            "27d37fe109a747b3a33b7b54ea26ffe2",
            "21bf18b408e143f0bd0bb7f5cd0c91e4",
            "f91b1912b7e64bd8ad5edb5d4cbe1f40",
            "d50f080c9da84a11b81a1195c80be900",
            "2b6101dc2a9743af937cbfca0305c163",
            "a79f1c2d9ed747b8b58f8b4df129c5bb"
          ]
        }
      },
      "outputs": [
        {
          "output_type": "stream",
          "name": "stderr",
          "text": [
            "/usr/local/lib/python3.10/dist-packages/huggingface_hub/utils/_auth.py:94: UserWarning: \n",
            "The secret `HF_TOKEN` does not exist in your Colab secrets.\n",
            "To authenticate with the Hugging Face Hub, create a token in your settings tab (https://huggingface.co/settings/tokens), set it as secret in your Google Colab and restart your session.\n",
            "You will be able to reuse this secret in all of your notebooks.\n",
            "Please note that authentication is recommended but still optional to access public models or datasets.\n",
            "  warnings.warn(\n"
          ]
        },
        {
          "output_type": "display_data",
          "data": {
            "text/plain": [
              "config.json:   0%|          | 0.00/665 [00:00<?, ?B/s]"
            ],
            "application/vnd.jupyter.widget-view+json": {
              "version_major": 2,
              "version_minor": 0,
              "model_id": "afd7ab8b83544b8eab74e8c1a9cf1f2a"
            }
          },
          "metadata": {}
        },
        {
          "output_type": "display_data",
          "data": {
            "text/plain": [
              "model.safetensors:   0%|          | 0.00/548M [00:00<?, ?B/s]"
            ],
            "application/vnd.jupyter.widget-view+json": {
              "version_major": 2,
              "version_minor": 0,
              "model_id": "c8e64a41a9e949b688f636caba17e14a"
            }
          },
          "metadata": {}
        },
        {
          "output_type": "display_data",
          "data": {
            "text/plain": [
              "generation_config.json:   0%|          | 0.00/124 [00:00<?, ?B/s]"
            ],
            "application/vnd.jupyter.widget-view+json": {
              "version_major": 2,
              "version_minor": 0,
              "model_id": "50ae9c97d96c405585ffd925efdfbb15"
            }
          },
          "metadata": {}
        },
        {
          "output_type": "display_data",
          "data": {
            "text/plain": [
              "tokenizer_config.json:   0%|          | 0.00/26.0 [00:00<?, ?B/s]"
            ],
            "application/vnd.jupyter.widget-view+json": {
              "version_major": 2,
              "version_minor": 0,
              "model_id": "71e8c668bf714a7585246f5abedf9c07"
            }
          },
          "metadata": {}
        },
        {
          "output_type": "display_data",
          "data": {
            "text/plain": [
              "vocab.json:   0%|          | 0.00/1.04M [00:00<?, ?B/s]"
            ],
            "application/vnd.jupyter.widget-view+json": {
              "version_major": 2,
              "version_minor": 0,
              "model_id": "6dfdb44bbfd74f43b88b7c96615927a2"
            }
          },
          "metadata": {}
        },
        {
          "output_type": "display_data",
          "data": {
            "text/plain": [
              "merges.txt:   0%|          | 0.00/456k [00:00<?, ?B/s]"
            ],
            "application/vnd.jupyter.widget-view+json": {
              "version_major": 2,
              "version_minor": 0,
              "model_id": "0fcce4e433e04708a3335a247e3dd500"
            }
          },
          "metadata": {}
        },
        {
          "output_type": "display_data",
          "data": {
            "text/plain": [
              "tokenizer.json:   0%|          | 0.00/1.36M [00:00<?, ?B/s]"
            ],
            "application/vnd.jupyter.widget-view+json": {
              "version_major": 2,
              "version_minor": 0,
              "model_id": "04c75a504c40413f99c8dae647e72560"
            }
          },
          "metadata": {}
        }
      ],
      "source": [
        "# On charge le modèle\n",
        "model_name = \"gpt2\" # Vous pouvez jouer avec différents modèles selon la puissance de votre machine\n",
        "\n",
        "model = AutoModelForCausalLM.from_pretrained(\"gpt2\")\n",
        "model.to(device)\n",
        "tokenizer = AutoTokenizer.from_pretrained(\"gpt2\")"
      ]
    },
    {
      "cell_type": "code",
      "source": [
        "prompt = \"Aussois is a village\" # Texte à tester ici\n",
        "inputs = tokenizer(prompt, return_tensors=\"pt\", add_special_tokens=True).to(device) # On encode le texte en tokens\n",
        "\n",
        "output = model.generate(**inputs, max_new_tokens=50, pad_token_id=tokenizer.eos_token_id) # On génère des tokens\n",
        "tokenizer.decode(output[0]) # On convertit les tokens en mots"
      ],
      "metadata": {
        "id": "9vra4vgbAF2w",
        "outputId": "990f7546-1b9f-40bd-fc80-f95acbf76e4e",
        "colab": {
          "base_uri": "https://localhost:8080/",
          "height": 122
        }
      },
      "execution_count": 5,
      "outputs": [
        {
          "output_type": "execute_result",
          "data": {
            "text/plain": [
              "'Aussois is a village in the south of the country. It is located in the northern part of the country.\\n\\nThe village is located in the northern part of the country. The village is located in the northern part of the country. The village is located in the northern part of the country. The village is located in the northern part of the country. The village is located in the northern part of the country. The village is located in the northern part of the country. The village is located in the northern part of the country. The village is located in the northern part of the country. The village is located in the northern part of the country. The village is located in the northern part of the country. The village is located in the northern part of the'"
            ],
            "application/vnd.google.colaboratory.intrinsic+json": {
              "type": "string"
            }
          },
          "metadata": {},
          "execution_count": 5
        }
      ]
    },
    {
      "cell_type": "markdown",
      "metadata": {
        "id": "ujTsCQLe_8FR"
      },
      "source": [
        "Pour changer le modèle utilisé (ici \"gpt2\"), vous pouvez vous balader sur huggingface, par exemple voir les modèles les plus téléchargés ici :\n",
        "https://huggingface.co/models?pipeline_tag=text-generation&sort=trending.\n",
        "Attention cependant à la mémoire. GPT2 tourne très bien sur (presque) n’importe quelle machine, alors que des modèles plus gros seront plus gourmands. Si vous utilisez une machine avec un gpu, pensez à instancier device = \"cuda\" et y déplacer le modèle ainsi que le texte."
      ]
    },
    {
      "cell_type": "markdown",
      "metadata": {
        "id": "zNZqaDfx_8FR"
      },
      "source": [
        "### Beam Search"
      ]
    },
    {
      "cell_type": "code",
      "execution_count": 10,
      "metadata": {
        "id": "1s1iyCqW_8FR",
        "outputId": "58c35cbd-f249-4be4-9b13-05fae7849bd8",
        "colab": {
          "base_uri": "https://localhost:8080/",
          "height": 52
        }
      },
      "outputs": [
        {
          "output_type": "execute_result",
          "data": {
            "text/plain": [
              "'Aussois is a village in the south-east of the country. It is located on the banks of the Euphrates River in the north-east of the country. It is located on the banks of the Euphrates River in the north-east of the country. It'"
            ],
            "application/vnd.google.colaboratory.intrinsic+json": {
              "type": "string"
            }
          },
          "metadata": {},
          "execution_count": 10
        }
      ],
      "source": [
        "output = model.generate(**inputs, num_beams=15, max_new_tokens=50, pad_token_id=tokenizer.eos_token_id) # On génère des tokens\n",
        "tokenizer.decode(output[0]) # On convertit les tokens en mots"
      ]
    },
    {
      "cell_type": "markdown",
      "metadata": {
        "id": "rXe6OHZp_8FR"
      },
      "source": [
        "Dans toute la suite du TP, on définit pad_token_id=eos.token_id, cela signifie que l’on fait de la génération ouverte. En faisant cela, on indique au modèle que générer du vide est équivalent à terminer la génération."
      ]
    },
    {
      "cell_type": "code",
      "execution_count": null,
      "metadata": {
        "id": "upAeH7LV_8FR"
      },
      "outputs": [],
      "source": [
        "# On peut augmenter le nombre de beams, augmenter la longueur, et renvoyer plus qu’une séquence avec num_return_sequences\n",
        "\n",
        "output = model.generate(**inputs, num_beams=7, max_new_tokens=50, num_return_sequences=3, pad_token_id=tokenizer.eos_token_id) # On génère des tokens\n",
        "\n",
        "for generated in output :\n",
        "    print(tokenizer.decode(generated)) # On convertit les tokens en mots"
      ]
    },
    {
      "cell_type": "markdown",
      "metadata": {
        "id": "fVsvm_Us_8FS"
      },
      "source": [
        "Le beam search est déterministe, faire tourner les cellules précédentes va donc toujours renvoyer la même chose. On voit bien que les séquences renvoyées sont très proches, on est dans un cas où certains préfixes sont bien meilleurs que les autres aux yeux du modèle."
      ]
    },
    {
      "cell_type": "markdown",
      "metadata": {
        "id": "twvi_YAS_8FS"
      },
      "source": [
        "### Sampling ancestral"
      ]
    },
    {
      "cell_type": "code",
      "execution_count": null,
      "metadata": {
        "id": "CBWpf1-Y_8FS"
      },
      "outputs": [],
      "source": [
        "output = model.generate(**inputs, num_beams=1, do_sample=True, max_new_tokens=50, pad_token_id=tokenizer.eos_token_id) # On génère des tokens\n",
        "tokenizer.decode(output[0]) # On convertit les tokens en mots"
      ]
    },
    {
      "cell_type": "markdown",
      "metadata": {
        "id": "SUZuWTd4_8FS"
      },
      "source": [
        "Le sampling est lui stochastique, et va donc donner des résultats différents à chaque instance. Les résultats peuvent être très surprenants. N’hésitez pas à relancer la cellule suivante jusqu’à avoir des phrases très surprenantes.\n"
      ]
    },
    {
      "cell_type": "code",
      "execution_count": null,
      "metadata": {
        "id": "5J2qqzgW_8FS"
      },
      "outputs": [],
      "source": [
        "for loop in range(5):\n",
        "    output = model.generate(**inputs, num_beams=1, do_sample=True, max_new_tokens=50, pad_token_id=tokenizer.eos_token_id) # On génère des tokens\n",
        "    text = tokenizer.decode(output[0]) # On convertit les tokens en mots\n",
        "    print(f\"Génération {loop} : \\n{text}\")"
      ]
    },
    {
      "cell_type": "markdown",
      "metadata": {
        "id": "gXQHhqJ8_8FS"
      },
      "source": [
        "### Top_k sampling"
      ]
    },
    {
      "cell_type": "code",
      "execution_count": null,
      "metadata": {
        "id": "nrS1VBa3_8FS"
      },
      "outputs": [],
      "source": [
        "output = model.generate(**inputs, num_beams=1, do_sample=True, top_k=40, max_new_tokens=50, pad_token_id=tokenizer.eos_token_id) # On génère des tokens\n",
        "tokenizer.decode(output[0]) # On convertit les tokens en mots"
      ]
    },
    {
      "cell_type": "markdown",
      "metadata": {
        "id": "s3IP5bpM_8FS"
      },
      "source": [
        "### Nucleus (top_p) sampling"
      ]
    },
    {
      "cell_type": "code",
      "execution_count": null,
      "metadata": {
        "id": "kC4LcuQ__8FS"
      },
      "outputs": [],
      "source": [
        "output = model.generate(**inputs, num_beams=1, do_sample=True, top_p=0.9, max_new_tokens=50, pad_token_id=tokenizer.eos_token_id) # On génère des tokens\n",
        "tokenizer.decode(output[0]) # On convertit les tokens en mots"
      ]
    },
    {
      "cell_type": "markdown",
      "metadata": {
        "id": "xgWYc_LU_8FT"
      },
      "source": [
        "### Locally typical sampling (typical_p)"
      ]
    },
    {
      "cell_type": "code",
      "execution_count": null,
      "metadata": {
        "id": "oMCap0ZL_8FT"
      },
      "outputs": [],
      "source": [
        "output = model.generate(**inputs, num_beams=1, do_sample=True, typical_p = 0.9, max_new_tokens=50, pad_token_id=tokenizer.eos_token_id) # On génère des tokens\n",
        "tokenizer.decode(output[0]) # On convertit les tokens en mots"
      ]
    },
    {
      "cell_type": "markdown",
      "metadata": {
        "id": "Uqvgu7kX_8FT"
      },
      "source": [
        "### $\\eta$-sampling (eta_cutoff)"
      ]
    },
    {
      "cell_type": "code",
      "execution_count": null,
      "metadata": {
        "id": "0Dzk1iag_8FT"
      },
      "outputs": [],
      "source": [
        "output = model.generate(**inputs, num_beams=1, do_sample=True, eta_cutoff=0.003, max_new_tokens=50, pad_token_id=tokenizer.eos_token_id) # On génère des tokens\n",
        "tokenizer.decode(output[0]) # On convertit les tokens en mots"
      ]
    },
    {
      "cell_type": "code",
      "execution_count": null,
      "metadata": {
        "id": "_y58zncd_8FT"
      },
      "outputs": [],
      "source": [
        "output = model.generate(**inputs, num_beams=1, do_sample=True, eta_cutoff=0.003, max_new_tokens=50, repetition_penalty=1.2, pad_token_id=tokenizer.eos_token_id) # On génère des tokens\n",
        "tokenizer.decode(output[0]) # On convertit les tokens en mots"
      ]
    },
    {
      "cell_type": "markdown",
      "metadata": {
        "id": "UD71Wl45_8FT"
      },
      "source": [
        "### Playground\n",
        "On peut cumuler tous ces paramètres afin d’influencer la génération"
      ]
    },
    {
      "cell_type": "markdown",
      "metadata": {
        "id": "zvLGvUEJ_8FT"
      },
      "source": [
        "Comment est-ce que Huggingface arrive à cumuler le Beam Search déterministe avec du sampling stochastique ? Vous pouvez regarder plus en détail ce qui se passe dans le code ici :\n",
        "https://github.com/huggingface/transformers/blob/main/src/transformers/generation/beam_search.py"
      ]
    },
    {
      "cell_type": "code",
      "execution_count": null,
      "metadata": {
        "id": "WL1iz-QK_8FT"
      },
      "outputs": [],
      "source": [
        "# Ancestral Sampling avec plusieurs beams\n",
        "output = model.generate(**inputs, num_beams=5, do_sample=True, max_new_tokens=50, pad_token_id=tokenizer.eos_token_id) # On génère des tokens\n",
        "tokenizer.decode(output[0]) # On convertit les tokens en mots"
      ]
    },
    {
      "cell_type": "code",
      "execution_count": null,
      "metadata": {
        "id": "b2tYgPB6_8FT"
      },
      "outputs": [],
      "source": [
        "# On peut regarder les résultats pour les différents beams\n",
        "\n",
        "output = model.generate(**inputs, num_beams=10, do_sample=True, max_new_tokens=50, num_return_sequences=3, pad_token_id=tokenizer.eos_token_id) # On génère des tokens\n",
        "for generation in output :\n",
        "    print(tokenizer.decode(generation))"
      ]
    },
    {
      "cell_type": "code",
      "execution_count": null,
      "metadata": {
        "id": "4t8PLwGn_8FT"
      },
      "outputs": [],
      "source": [
        "# Top-k avec plusieurs beams\n",
        "output = model.generate(**inputs, num_beams=5, do_sample=True, top_k=40, max_new_tokens=50, pad_token_id=tokenizer.eos_token_id) # On génère des tokens\n",
        "tokenizer.decode(output[0]) # On convertit les tokens en mots"
      ]
    },
    {
      "cell_type": "markdown",
      "metadata": {
        "id": "Uiie-3t4_8FT"
      },
      "source": [
        "Quand on cumule les troncations, on applique d’abord top-k puis top-p d’après https://huggingface.co/blog/how-to-generate, mais qu’est-ce qui se passe quand on les cumules toutes ? Vous pouvez jouer avec cela et partager votre génération la plus étonnante avec le reste des participants."
      ]
    },
    {
      "cell_type": "code",
      "execution_count": null,
      "metadata": {
        "id": "6To8l9fC_8FT"
      },
      "outputs": [],
      "source": [
        "# Un peu de tout\n",
        "output = model.generate(**inputs, num_beams=1, do_sample=True, top_k=40, top_p=0.9, eta_cutoff=0.003, max_new_tokens=50, pad_token_id=tokenizer.eos_token_id) # On génère des tokens\n",
        "tokenizer.decode(output[0]) # On convertit les tokens en mots"
      ]
    },
    {
      "cell_type": "code",
      "execution_count": null,
      "metadata": {
        "id": "BJ5FH3cE_8FU"
      },
      "outputs": [],
      "source": [
        "# Testez tout\n",
        "output = model.generate(\n",
        "    **inputs,\n",
        "    num_beams=1,\n",
        "    do_sample=True,\n",
        "    top_k=40,\n",
        "    top_p=0.9,\n",
        "    temperature=0.9,\n",
        "    eta_cutoff=0.003,\n",
        "    repetition_penalty=1.2,\n",
        "    max_new_tokens=50,\n",
        "    pad_token_id=tokenizer.eos_token_id)\n",
        "tokenizer.decode(output[0]) # On convertit les tokens en mots"
      ]
    },
    {
      "cell_type": "markdown",
      "metadata": {
        "id": "irRR2Rd-_8FU"
      },
      "source": [
        "## Mesures de diversité de la génération\n",
        "Ici, on va mesurer à quel point générer plusieurs fois va donner des textes différents, n’hésitez pas à jouer avec tous les paramètres"
      ]
    },
    {
      "cell_type": "code",
      "execution_count": null,
      "metadata": {
        "id": "1cXxYWJW_8FU"
      },
      "outputs": [],
      "source": [
        "import torch\n",
        "import sacrebleu\n",
        "import random\n",
        "import numpy as np\n",
        "\n",
        "def calculate_average_bleu(generated_texts):\n",
        "    # Calcul du score BLEU pour chaque paire de textes\n",
        "    pairwise_bleu_scores = []\n",
        "    for i in range(len(generated_texts)):\n",
        "        for j in range(i+1, len(generated_texts)):\n",
        "            hypothesis = generated_texts[i]\n",
        "            references = [generated_texts[j]]\n",
        "            bleu = sacrebleu.corpus_bleu([hypothesis], [references])\n",
        "            pairwise_bleu_scores.append(bleu.score)\n",
        "            #print(f\"score BLEU entre la génération {i} et {j}: {bleu.score:.2f}\")\n",
        "\n",
        "    # Calcul du BLEU moyen en tant que mesure de diversité\n",
        "    average_bleu = sum(pairwise_bleu_scores) / len(pairwise_bleu_scores)\n",
        "    return average_bleu"
      ]
    },
    {
      "cell_type": "code",
      "execution_count": null,
      "metadata": {
        "id": "yBJEtuF1_8FU"
      },
      "outputs": [],
      "source": [
        "prompt = \"Aussois is\"  # Prompt\n",
        "\n",
        "# Encodage du prompt\n",
        "inputs = tokenizer(prompt, return_tensors=\"pt\", add_special_tokens=False).to(device)\n",
        "\n",
        "# On génère plusieurs textes\n",
        "num_samples = 5  # Nombre de textes\n",
        "max_new_tokens = 50  # Nombre de tokens à générer\n",
        "generated_texts = []\n",
        "\n",
        "# Boucle de génération\n",
        "for i in range(num_samples):\n",
        "    \"\"\" Optionnel, on peut ajouter une seed pour reproduire toujours les mêmes\n",
        "    torch.manual_seed(i)\n",
        "    np.random.seed(i)\n",
        "    random.seed(i)\n",
        "    \"\"\"\n",
        "\n",
        "    # Génération de textes avec différents paramètres\n",
        "    output = model.generate(\n",
        "        **inputs,\n",
        "        num_beams=5,\n",
        "        max_new_tokens=max_new_tokens,\n",
        "        do_sample=True,\n",
        "        #top_k=40,\n",
        "        temperature=0.7,\n",
        "        #top_p=0,\n",
        "        #eta_cutoff=0,\n",
        "        #typical_p=0.9,\n",
        "        #repetition_penalty=1,\n",
        "        pad_token_id=tokenizer.eos_token_id\n",
        "    )\n",
        "    # Décodage des tokens\n",
        "    generated_text = tokenizer.decode(output[0], skip_special_tokens=True)\n",
        "    generated_texts.append(generated_text)\n",
        "    print(f\"Sample {i}:\\n{generated_text}\\n\")\n",
        "\n",
        "avg = calculate_average_bleu(generated_texts)\n",
        "print(f\"Score BLEU moyen :{avg}\")"
      ]
    },
    {
      "cell_type": "markdown",
      "metadata": {
        "id": "rSj_hOvA_8FU"
      },
      "source": [
        "BLEU va mesurer à quel point les phrases sont similaires, plus il est bas, plus les générations sont diverses."
      ]
    },
    {
      "cell_type": "markdown",
      "metadata": {
        "id": "hPACNIB7_8FU"
      },
      "source": [
        "## Beam-search curse\n",
        "À partir d’une certaine taille, augmenter le nombre de beams va venir raccourcir la génération, voire renvoyer une phrase vide. Ici on fait de la génération sans trop de contraintes mais avec des tâches bien définies c’est plus fragrant."
      ]
    },
    {
      "cell_type": "code",
      "execution_count": null,
      "metadata": {
        "id": "_fJKT59T_8FU"
      },
      "outputs": [],
      "source": [
        "# On génère plusieurs textes\n",
        "num_samples = 5  # Nombre de textes\n",
        "max_new_tokens = 50  # Nombre de tokens à générer\n",
        "generated_texts = []\n",
        "\n",
        "nb_beams = [10, 20, 50, 100]\n",
        "\n",
        "for j in nb_beams:\n",
        "    lengths = []\n",
        "    # Boucle de génération\n",
        "    for i in range(num_samples):\n",
        "        \"\"\" Optionnel, on peut ajouter une seed pour reproduire toujours les mêmes\n",
        "        torch.manual_seed(i)\n",
        "        np.random.seed(i)\n",
        "        random.seed(i)\n",
        "        \"\"\"\n",
        "\n",
        "        # Génération de textes avec différents paramètres\n",
        "        output = model.generate(\n",
        "            **inputs,\n",
        "            num_beams=j,\n",
        "            max_new_tokens=max_new_tokens,\n",
        "            do_sample=False,\n",
        "            #top_k=40,\n",
        "            temperature=1,\n",
        "            #top_p=0,\n",
        "            #eta_cutoff=0,\n",
        "            #typical_p=0.9,\n",
        "            #repetition_penalty=1,\n",
        "            early_stopping=True,\n",
        "            pad_token_id=tokenizer.eos_token_id\n",
        "        )\n",
        "        # Décodage des tokens\n",
        "        generated_text = tokenizer.decode(output[0], skip_special_tokens=True)\n",
        "        generated_texts.append(generated_text)\n",
        "\n",
        "        # On calcule la longueur du texte généré (en mots)\n",
        "        length = len(generated_text.split())\n",
        "        lengths.append(length)\n",
        "\n",
        "    avg = calculate_average_bleu(generated_texts)\n",
        "    # Calcul de la longueur moyenne pour ce nombre de beams\n",
        "    avg_length = sum(lengths) / len(lengths)\n",
        "    print(f\"Score Bleu moyen pour {j} beams : {avg:.5f}, Longueur moyenne : {avg_length:.2f} mots\\n\")\n",
        ""
      ]
    },
    {
      "cell_type": "code",
      "execution_count": null,
      "metadata": {
        "id": "ySggqI0V_8FU"
      },
      "outputs": [],
      "source": [
        "print(generated_texts)"
      ]
    },
    {
      "cell_type": "markdown",
      "metadata": {
        "id": "sqH6bTbB_8FV"
      },
      "source": [
        "La longueur moyenne des textes a tendance a diminuer quand le nombre de beams devient très grand"
      ]
    },
    {
      "cell_type": "markdown",
      "metadata": {
        "id": "w-1P9PrW_8FV"
      },
      "source": [
        "## Conditions d’arrêt du beam search"
      ]
    },
    {
      "cell_type": "code",
      "execution_count": null,
      "metadata": {
        "id": "wuCf7WW0_8FV"
      },
      "outputs": [],
      "source": [
        "# On génère plusieurs textes\n",
        "num_samples = 5  # Nombre de textes\n",
        "max_new_tokens = 50  # Nombre de tokens à générer\n",
        "generated_texts = []\n",
        "\n",
        "# Différentes valeurs de early_stopping\n",
        "early_stopping_options = [False, True]\n",
        "\n",
        "# On fixe un nombre de beams\n",
        "num_beams = 20\n",
        "\n",
        "for es in early_stopping_options:\n",
        "    lengths = []\n",
        "    # Boucle de génération\n",
        "    for i in range(num_samples):\n",
        "        \"\"\" Optionnel, on peut ajouter une seed pour reproduire toujours les mêmes\n",
        "        torch.manual_seed(i)\n",
        "        np.random.seed(i)\n",
        "        random.seed(i)\n",
        "        \"\"\"\n",
        "\n",
        "        # Génération de textes avec différents paramètres (vous pouvez les changer à votre guise)\n",
        "        # Ici, on ne varie que early_stopping\n",
        "        output = model.generate(\n",
        "            **inputs,\n",
        "            num_beams=num_beams,\n",
        "            max_new_tokens=max_new_tokens,\n",
        "            do_sample=True,\n",
        "            temperature=0.7,\n",
        "            early_stopping=es,\n",
        "            pad_token_id=tokenizer.eos_token_id\n",
        "        )\n",
        "        # Décodage des tokens\n",
        "        generated_text = tokenizer.decode(output[0], skip_special_tokens=True)\n",
        "        generated_texts.append(generated_text)\n",
        "\n",
        "        # On calcule la longueur du texte généré (en mots, approx. via split)\n",
        "        length = len(generated_text.split())\n",
        "        lengths.append(length)\n",
        "\n",
        "    avg = calculate_average_bleu(generated_texts)\n",
        "    # Calcul de la longueur moyenne pour cette configuration\n",
        "    avg_length = sum(lengths) / len(lengths)\n",
        "    print(f\"Pour early_stopping={es}, Score BLEU moyen : {avg:.5f}, Longueur moyenne : {avg_length:.2f} mots\\n\")\n"
      ]
    },
    {
      "cell_type": "code",
      "execution_count": null,
      "metadata": {
        "id": "nmGX1ZnZ_8FV"
      },
      "outputs": [],
      "source": [
        "# Ici on va faire varier la length_penalty pour regarder son effet\n",
        "\n",
        "# On génère plusieurs textes\n",
        "num_samples = 5  # Nombre de textes\n",
        "max_new_tokens = 50  # Nombre de tokens à générer\n",
        "generated_texts = []\n",
        "\n",
        "# On fixe un nombre de beams et on fait varier la length_penalty\n",
        "num_beams = 20\n",
        "length_penalties = [0.8, 1.0, 1.2, 1.5, 2, 3]\n",
        "\n",
        "for lp in length_penalties:\n",
        "    lengths = []\n",
        "    # Boucle de génération\n",
        "    for i in range(num_samples):\n",
        "        \"\"\" Optionnel, on peut ajouter une seed pour reproduire toujours les mêmes\n",
        "        torch.manual_seed(i)\n",
        "        np.random.seed(i)\n",
        "        random.seed(i)\n",
        "        \"\"\"\n",
        "\n",
        "        # Génération de textes avec les paramètres fixes et la length_penalty variable\n",
        "        output = model.generate(\n",
        "            **inputs,\n",
        "            num_beams=num_beams,\n",
        "            max_new_tokens=max_new_tokens,\n",
        "            do_sample=False,\n",
        "            temperature=1,\n",
        "            early_stopping=True,       # On garde l'arrêt anticipé\n",
        "            length_penalty=lp,         # On fait varier cette pénalité\n",
        "            pad_token_id=tokenizer.eos_token_id\n",
        "        )\n",
        "        # Décodage des tokens\n",
        "        generated_text = tokenizer.decode(output[0], skip_special_tokens=True)\n",
        "        generated_texts.append(generated_text)\n",
        "\n",
        "        # On calcule la longueur du texte généré (en mots, approx. via split)\n",
        "        length = len(generated_text.split())\n",
        "        lengths.append(length)\n",
        "\n",
        "    avg = calculate_average_bleu(generated_texts)\n",
        "    avg_length = sum(lengths) / len(lengths)\n",
        "    print(f\"Score BLEU moyen pour length_penalty={lp} : {avg:.5f}, Longueur moyenne (en mots) : {avg_length:.2f}\\n\")"
      ]
    },
    {
      "cell_type": "markdown",
      "metadata": {
        "id": "ABPDGtwe_8FV"
      },
      "source": [
        "# Calculs de perplexité"
      ]
    },
    {
      "cell_type": "markdown",
      "metadata": {
        "id": "-1NnGjzz_8FV"
      },
      "source": [
        "La perplexité est une mesure de surprise du texte, plus elle est élevée moins le modèle associe de fortes probabilités aux mots de la séquence."
      ]
    },
    {
      "cell_type": "code",
      "execution_count": null,
      "metadata": {
        "id": "2Zp77HH3_8FV"
      },
      "outputs": [],
      "source": [
        "import torch\n",
        "from tqdm import tqdm\n",
        "import torch.nn.functional as F\n",
        "\n",
        "# Inspiré par l’implémentation HuggingFace disponible ici : https://huggingface.co/docs/transformers/perplexity\n",
        "\n",
        "# Méthode 1, avec tout le contexte à chaque fois\n",
        "def compute_token_by_token_ppl(model, encodings):\n",
        "    input_ids = encodings.input_ids.to(device)\n",
        "    seq_len = input_ids.size(1)\n",
        "    if seq_len > model.config.n_positions:\n",
        "        return \"Ce texte est trop long pour la fenêtre de contexte du modèle\"\n",
        "    with torch.no_grad():\n",
        "        outputs = model(input_ids, labels=input_ids)\n",
        "\n",
        "    logits = outputs.logits  # shape: [batch_size, seq_length, vocab_size]\n",
        "\n",
        "    # Shift pour prédire le token i à la position i-1\n",
        "    shift_logits = logits[:, :-1, :].contiguous()\n",
        "    shift_labels = input_ids[:, 1:].contiguous()\n",
        "\n",
        "    log_probs = F.log_softmax(shift_logits, dim=-1)\n",
        "    # On gather pour regarder les probabilités du token qui est renvoyé\n",
        "    token_log_probs = log_probs.gather(-1, shift_labels.unsqueeze(-1)).squeeze(-1)\n",
        "\n",
        "    average_nll = -token_log_probs.mean()\n",
        "    token_by_token_ppl = torch.exp(average_nll)\n",
        "    return token_by_token_ppl.item()"
      ]
    },
    {
      "cell_type": "code",
      "execution_count": null,
      "metadata": {
        "id": "Q_LifzFy_8FV"
      },
      "outputs": [],
      "source": [
        "# On peut aller plus loin encore et afficher la probabliité associée à chaque token d’une phrase en modifiant cette fonction :\n",
        "\n",
        "def compute_token_probs_and_ppl(model, tokenizer, encodings, device=device):\n",
        "    input_ids = encodings.input_ids.to(device)\n",
        "    seq_len = input_ids.size(1)\n",
        "\n",
        "    if seq_len > model.config.n_positions:\n",
        "        return \"Ce texte est trop long pour la fenêtre de contexte du modèle\"\n",
        "\n",
        "    with torch.no_grad():\n",
        "        outputs = model(input_ids, labels=input_ids)\n",
        "\n",
        "    logits = outputs.logits  # [batch_size, seq_length, vocab_size]\n",
        "\n",
        "    # On shift pour prédire le token t+1 à la position t\n",
        "    shift_logits = logits[:, :-1, :].contiguous()    # Prédictions\n",
        "    shift_labels = input_ids[:, 1:].contiguous()     # tokens prédits\n",
        "\n",
        "    # Log probs de chaque token\n",
        "    log_probs = F.log_softmax(shift_logits, dim=-1)\n",
        "    # Log probs de chaque token prédit\n",
        "    token_log_probs = log_probs.gather(-1, shift_labels.unsqueeze(-1)).squeeze(-1)  # [batch_size, seq_length-1]\n",
        "\n",
        "    average_nll = -token_log_probs.mean()\n",
        "    token_by_token_ppl = torch.exp(average_nll)\n",
        "\n",
        "    # On passe des log probs aux probabilités\n",
        "    token_probs = torch.exp(token_log_probs)  # shape: [batch_size, seq_length-1]\n",
        "    token_probs = token_probs.squeeze(0)      # batch_size=1\n",
        "\n",
        "    # On commence à partir du second token de la phrase, le premier n’ayant pas de contexte autre que <s>\n",
        "    predicted_tokens = shift_labels.squeeze(0)  # shape: [seq_length-1]\n",
        "\n",
        "    print(\"Token-by-token probabilities:\")\n",
        "    for i, token_id in enumerate(predicted_tokens):\n",
        "        token_str = tokenizer.decode([token_id])\n",
        "        prob = token_probs[i].item()\n",
        "        print(f\"Token: {token_str} | Probability: {prob:.6f}\")\n",
        "\n",
        "    return token_by_token_ppl.item()"
      ]
    },
    {
      "cell_type": "code",
      "execution_count": null,
      "metadata": {
        "id": "km2XlYmQ_8FV"
      },
      "outputs": [],
      "source": [
        "prompt_test = \"The Eiffel Tower is located in\"\n",
        "inputs = tokenizer(prompt_test, return_tensors=\"pt\", add_special_tokens=False).to(device)\n",
        "\n",
        "output = model.generate(**inputs, num_beams=5, max_new_tokens=5, pad_token_id=tokenizer.eos_token_id) # On génère des tokens\n",
        "sortie = tokenizer.decode(output[0]) # On convertit les tokens en mots\n",
        "print(sortie)"
      ]
    },
    {
      "cell_type": "markdown",
      "metadata": {
        "id": "vJkJ8fnK_8FW"
      },
      "source": [
        "Regardons maintenant à quel point GPT2 est sûr de lui à chaque étape, n’hésitez pas à changer le prompt de test"
      ]
    },
    {
      "cell_type": "code",
      "execution_count": null,
      "metadata": {
        "id": "G9eQJd5S_8FW"
      },
      "outputs": [],
      "source": [
        "inputs = tokenizer(sortie, return_tensors=\"pt\", add_special_tokens=False).to(device)\n",
        "\n",
        "compute_token_probs_and_ppl(model, tokenizer, inputs)"
      ]
    },
    {
      "cell_type": "markdown",
      "metadata": {
        "id": "Mv5f6ySG_8FW"
      },
      "source": [
        "Maintenant, regardons comment faire dans le cas où le contexte est trop grand pour le modèle, le contexte de GPT2 est de 1024 par exemple (j’ai demandé un texte super long à ChatGPT, vous pouvez également proposer le vôtre)."
      ]
    },
    {
      "cell_type": "code",
      "execution_count": null,
      "metadata": {
        "id": "SzByn9ZH_8FW"
      },
      "outputs": [],
      "source": [
        "text = \"On a crisp autumn morning, Eleanor stepped outside her small cottage at the edge of the forest and began walking down a narrow path lined with amber and russet leaves. The world had changed colors overnight, as if an unseen painter had swept across the landscape with a palette of warm hues. She breathed in the scent of damp earth, distant pine, and the faint aroma of woodsmoke drifting from a neighbor’s chimney. Although the air carried a slight chill, the day promised gentle sunshine and light winds, perfect for a long and thoughtful stroll. As she continued along the winding trail, Eleanor recalled the stories her grandfather had told her when she was a child—tales of hidden groves and forgotten clearings deep in the woods, where ancient trees whispered secrets to one another. He had insisted that if one listened carefully enough, the wind through the branches carried voices from centuries past. She had never been entirely sure whether to believe him, but as she walked, she allowed herself the luxury of imagining these old legends might hold some truth. There was comfort in thinking that one’s ancestors might leave behind faint echoes, lingering in the quiet corners of nature. About half a mile in, Eleanor reached a small stream. Its waters, clear and cold, danced over smooth stones, creating a soft, melodic murmur. She paused to watch leaves float downstream, each one a tiny vessel drifting toward unknown destinations. The sunlight, filtering through the half-bare branches, reflected in bright spots off the ripples, reminding her that beauty often lay in small, transient details. She took her time before moving on, feeling as if each moment was a gift she shouldn’t rush. Not long after crossing the stream via a makeshift wooden plank, she came across a clearing she did not recognize. It was shaped like an oval and ringed with young birch trees whose bark gleamed pale against the darker backdrop of firs and oaks. In the center stood a solitary stone bench, weathered and covered in moss, as though it had been placed there by someone who valued solitude. Eleanor brushed off some of the moss and sat, resting her legs and taking in the silent theater around her. No birds chirped, no squirrels chattered. It was as if this spot had declared itself a sanctuary from noise. While resting, she thought about the countless times she had ventured outdoors in search of nothing in particular: just the quiet companionship of trees, the patient passage of clouds, and the sound of her own footsteps on the trail. She considered how, in these quiet moments, she often found a clarity that eluded her in the hustle of daily life. Back at her cottage, there were chores to be done, letters to answer, and errands waiting. Out here, these demands receded, leaving room for the warmth of memories and the subtle interplay of time and stillness. Refreshed by the pause, Eleanor stood and continued forward, leaving the clearing behind. Eventually, the path widened, and she found herself walking alongside an old stone wall, partially collapsed in places. Vines and moss had claimed it, weaving new textures and patterns that hinted at the slow, persistent artistry of nature over generations. She liked to imagine who might have built the wall—farmers long ago clearing land, or perhaps villagers marking a boundary. The wall, now broken and quiet, bore silent witness to a past she could only guess at. As noon approached, the sunlight grew warmer, and the forest seemed to awaken. A distant woodpecker tapped at a trunk, small birds fluttered between branches, and a gentle breeze carried the distant laughter of someone working in a nearby orchard. Eleanor knew there was a village not far beyond the forest’s border, where life continued its pleasant rhythm: apples harvested, bread baked, stories swapped over steaming cups of tea. Soon, she would turn back toward her cottage, but not just yet. The day still had hours left to unfold. After another half-hour of walking, she reached a hillside that offered a view of rolling fields beyond the trees. Patches of farmland, dotted with hay bales, stretched toward a line of distant hills. A single hawk circled overhead, its keen eyes scanning the ground below for a quick meal. Eleanor watched the hawk’s flight, feeling a quiet admiration for its independence and grace. When she finally turned around to retrace her steps home, she found the forest just as welcoming as before. The path felt familiar but not stale; rather, it was like greeting an old friend. She noticed details she had missed earlier—a cluster of mushrooms at the base of a beech tree, the gentle slope of the trail as it curved around a thicket. Each step brought her closer to the cottage, and with it the ordinary tasks of her life, but she carried within her a renewed sense of peace. By the time Eleanor stepped through her front door, the golden afternoon light had begun to angle across the floorboards. She placed a kettle on the stove, choosing a fragrant herbal blend for her tea. Waiting for the water to boil, she looked out the window at the edge of the forest, grateful that she had taken the time to wander among the trees. There was a quiet magic in that forest—subtle, unassuming, yet undeniably present. It asked for nothing and offered everything: a calm place to think, to listen, to remember. And tomorrow, or perhaps the day after, she might return to discover something new, or to simply be, wrapped in the gentle hush of autumn leaves and whispered histories.\"\n",
        "\n",
        "inputs = tokenizer(text, return_tensors=\"pt\", add_special_tokens=False).to(device)"
      ]
    },
    {
      "cell_type": "code",
      "execution_count": null,
      "metadata": {
        "id": "QfHSXYsL_8FW"
      },
      "outputs": [],
      "source": [
        "def compute_context_window_ppl(model, encodings, window_size):\n",
        "    input_ids = encodings.input_ids.to(device)\n",
        "    seq_len = input_ids.size(1)\n",
        "    max_length = window_size\n",
        "\n",
        "    window_losses = []\n",
        "    for start_idx in range(0, seq_len, max_length):\n",
        "        end_idx = min(start_idx + max_length, seq_len)\n",
        "        window_input_ids = input_ids[:, start_idx:end_idx]\n",
        "\n",
        "        with torch.no_grad():\n",
        "            outputs = model(window_input_ids, labels=window_input_ids)\n",
        "\n",
        "        # outputs.loss représente la NLL moyenne sur tous les tokens dans la fenêtre\n",
        "        window_loss = outputs.loss\n",
        "        window_losses.append(window_loss)\n",
        "\n",
        "    average_loss = torch.stack(window_losses).mean()\n",
        "    context_window_ppl = torch.exp(average_loss)\n",
        "    return context_window_ppl.item()"
      ]
    },
    {
      "cell_type": "code",
      "execution_count": null,
      "metadata": {
        "id": "1Vr299Jt_8FW"
      },
      "outputs": [],
      "source": [
        "def compute_perplexity_with_half_window_context(model, encodings, window_size):\n",
        "    half_window = window_size // 2\n",
        "\n",
        "    input_ids = encodings.input_ids.to(device)\n",
        "    seq_len = input_ids.size(1)\n",
        "\n",
        "    nlls = []\n",
        "    start_positions = range(0, seq_len, half_window)\n",
        "    for start_pos in tqdm(start_positions):\n",
        "        end_pos = start_pos + window_size\n",
        "        # Si on a plus assez de tokens, on break ou on peut calculer la ppl des tokens restants en mettant end_pos = seq_len\n",
        "        if end_pos > seq_len:\n",
        "            end_pos = seq_len\n",
        "            break\n",
        "\n",
        "        # On choisit notre fenêtre\n",
        "        window_input_ids = input_ids[:, start_pos:end_pos]\n",
        "\n",
        "        # Seule la deuxième moitié de la fenêtre de contexte sert à scorer notre texte\n",
        "        target_ids = window_input_ids.clone()\n",
        "        # On masque la première moitié du texte (-100 est une valeur arbitraire)\n",
        "        target_ids[:, :half_window] = -100\n",
        "\n",
        "        with torch.no_grad():\n",
        "            outputs = model(window_input_ids, labels=target_ids)\n",
        "            neg_log_likelihood = outputs.loss\n",
        "            nlls.append(neg_log_likelihood)\n",
        "\n",
        "        if end_pos == seq_len:\n",
        "            break\n",
        "\n",
        "    # On récupère la perplexité moyenne\n",
        "    average_nll = torch.stack(nlls).mean()\n",
        "    ppl = torch.exp(average_nll)\n",
        "    return ppl.item()"
      ]
    },
    {
      "cell_type": "code",
      "execution_count": null,
      "metadata": {
        "id": "3T4Hev_u_8FW"
      },
      "outputs": [],
      "source": [
        "compute_token_by_token_ppl(model, inputs)"
      ]
    },
    {
      "cell_type": "code",
      "execution_count": null,
      "metadata": {
        "id": "E2XQIXmy_8FW"
      },
      "outputs": [],
      "source": [
        "compute_perplexity_with_half_window_context(model, inputs, window_size=512)"
      ]
    },
    {
      "cell_type": "code",
      "execution_count": null,
      "metadata": {
        "id": "2q-hAbMr_8FX"
      },
      "outputs": [],
      "source": [
        "compute_context_window_ppl(model, inputs, window_size=512)"
      ]
    },
    {
      "cell_type": "markdown",
      "metadata": {
        "id": "yvpmz_HM_8FX"
      },
      "source": [
        "On obtient différents résultats de perplexité à cause des différentes façons de calculer. Sur les texte très longs, ces différences peuvent devenir très grandes."
      ]
    },
    {
      "cell_type": "markdown",
      "metadata": {
        "id": "Tp7_zJbq_8FX"
      },
      "source": [
        "# Minimum Bayes Risk Decoding"
      ]
    },
    {
      "cell_type": "code",
      "execution_count": null,
      "metadata": {
        "id": "g2x6_8ga_8FX"
      },
      "outputs": [],
      "source": [
        "from transformers import AutoModelForSeq2SeqLM, AutoTokenizer\n",
        "import torch\n",
        "import sacrebleu\n",
        "\n",
        "device = \"cuda\" if torch.cuda.is_available() else \"cpu\"\n",
        "\n",
        "# On charge le modèle NLLB\n",
        "model_name = \"facebook/nllb-200-distilled-600M\"\n",
        "source_lang = \"eng_Latn\"  # Langue source (Anglais)\n",
        "target_lang = \"fra_Latn\"  # Langue cible (Français)\n",
        "\n",
        "tokenizer = AutoTokenizer.from_pretrained(model_name, src_lang=source_lang, tgt_lang=target_lang)\n",
        "model = AutoModelForSeq2SeqLM.from_pretrained(model_name).to(device)\n",
        "\n",
        "# Pour NLLB, il faut spécifier la langue cible en préfixant le token <2lang_code>\n",
        "# Ici, on force l'utilisation du bos_token correspondant à la langue cible\n",
        "forced_bos_token_id = tokenizer.convert_tokens_to_ids(\"fra_Latn\")\n",
        "\n",
        "# Texte source à traduire\n",
        "prompt = \"Aussois is a wonderful place\"\n",
        "\n",
        "# Encodage du prompt\n",
        "inputs = tokenizer(prompt, return_tensors=\"pt\", add_special_tokens=True).to(device)\n",
        "\n",
        "# Génération des références (candidats \"best\") de manière déterministe\n",
        "nb_best = 5\n",
        "best_set = []\n",
        "for i in range(nb_best):\n",
        "    output = model.generate(\n",
        "        **inputs,\n",
        "        max_new_tokens=10,\n",
        "        num_beams=5,  # On utilise le beam search pour une génération plus déterministe\n",
        "        forced_bos_token_id=forced_bos_token_id\n",
        "    )\n",
        "    generated_text = tokenizer.decode(output[0], skip_special_tokens=True)\n",
        "    best_set.append(generated_text)\n",
        "\n",
        "# Génération de candidats divers (monte_carlo_set) de manière stochastique\n",
        "nb_divers = 30\n",
        "monte_carlo_set = []\n",
        "for i in range(nb_divers):\n",
        "    output = model.generate(\n",
        "        **inputs,\n",
        "        do_sample=True,\n",
        "        max_new_tokens=10,\n",
        "        top_k=40,  # Pour plus de diversité\n",
        "        forced_bos_token_id=forced_bos_token_id\n",
        "    )\n",
        "    generated_text = tokenizer.decode(output[0], skip_special_tokens=True)\n",
        "    monte_carlo_set.append(generated_text)"
      ]
    },
    {
      "cell_type": "code",
      "execution_count": null,
      "metadata": {
        "id": "M4CYBHKP_8FX"
      },
      "outputs": [],
      "source": [
        "def select_best_candidate(best_set, monte_carlo_set):\n",
        "    # Ici on cherche le candidat qui ressemble le plus à tous les autres selon le BLEU moyen\n",
        "    scores = []\n",
        "    for candidate in best_set:\n",
        "        pairwise_bleu_scores = []\n",
        "        for reference_text in monte_carlo_set:\n",
        "            bleu = sacrebleu.corpus_bleu([candidate], [[reference_text]])\n",
        "            pairwise_bleu_scores.append(bleu.score)\n",
        "\n",
        "        # Calcul du BLEU moyen pour ce candidat\n",
        "        average_bleu = sum(pairwise_bleu_scores) / len(pairwise_bleu_scores)\n",
        "        scores.append(average_bleu)\n",
        "\n",
        "    # On sélectionne le candidat avec le score moyen le plus élevé\n",
        "    best_index = max(range(len(scores)), key=lambda idx: scores[idx])\n",
        "    return best_set[best_index], scores[best_index]\n"
      ]
    },
    {
      "cell_type": "code",
      "execution_count": null,
      "metadata": {
        "id": "omycmUho_8FX"
      },
      "outputs": [],
      "source": [
        "candidat, score = select_best_candidate(best_set, monte_carlo_set)\n",
        "print(f\"La meilleure traduction est :\\n{candidat}\\navec un BLEU moyen de {score:.5f}\")"
      ]
    },
    {
      "cell_type": "markdown",
      "metadata": {
        "id": "OF7UgtuM_8FX"
      },
      "source": [
        "# Monte Carlo Tree Search"
      ]
    },
    {
      "cell_type": "code",
      "execution_count": null,
      "metadata": {
        "id": "Tj4Nk8Ch_8FX"
      },
      "outputs": [],
      "source": [
        "from transformers import AutoModelForSequenceClassification\n",
        "\n",
        "# On charge le modèle chargé de scorer nos textes\n",
        "# C’est un modèle très simple chargé de donner un score de polarité positif et négatif aux textes, chacun entre 0 et 1\n",
        "scoring_model_name = \"siebert/sentiment-roberta-large-english\"\n",
        "scoring_tokenizer = AutoTokenizer.from_pretrained(scoring_model_name)\n",
        "scoring_model = AutoModelForSequenceClassification.from_pretrained(scoring_model_name)\n",
        "device = torch.device(\"cuda\" if torch.cuda.is_available() else \"cpu\")\n",
        "\n",
        "scoring_model.to(device)\n",
        "scoring_model.eval()\n",
        "\n",
        "def get_positive_score(texts):\n",
        "    \"\"\"\n",
        "    On calcule le sentiment (positif)\n",
        "    \"\"\"\n",
        "    inputs = scoring_tokenizer(texts, return_tensors=\"pt\", truncation=True, padding=True).to(device)\n",
        "\n",
        "    with torch.no_grad():\n",
        "        outputs = scoring_model(**inputs)\n",
        "\n",
        "    # Apply softmax to get probabilities\n",
        "    probabilities = torch.softmax(outputs.logits, dim=1)\n",
        "\n",
        "    positive_scores = probabilities[:, 1]  # Index 1 représente le score \"positif\"\n",
        "\n",
        "    # Il faut choisir si l’on veut un texte positif ou négatif en commentant la ligne inutile\n",
        "    scores = positive_scores               # On veut que le texte généré soit plutôt positif\n",
        "\n",
        "    return scores\n",
        "\n",
        "def get_negative_score(texts):\n",
        "    \"\"\"\n",
        "    On calcule le sentiment (négatif)\n",
        "    \"\"\"\n",
        "    inputs = scoring_tokenizer(texts, return_tensors=\"pt\", truncation=True, padding=True).to(device)\n",
        "\n",
        "    with torch.no_grad():\n",
        "        outputs = scoring_model(**inputs)\n",
        "\n",
        "    # Apply softmax to get probabilities\n",
        "    probabilities = torch.softmax(outputs.logits, dim=1)\n",
        "\n",
        "    negative_scores = probabilities[:, 0]  # Index 0 représente le score \"négatif\"\n",
        "\n",
        "    # Il faut choisir si l’on veut un texte positif ou négatif en commentant la ligne inutile\n",
        "    scores = negative_scores               # On veut que le texte généré soit plutôt négatif\n",
        "\n",
        "    return scores\n",
        "\n",
        "# Exemple\n",
        "text = \"This movie was terrible\"\n",
        "positive_score = get_positive_score([text])\n",
        "negative_score = get_negative_score([text])\n",
        "print(f\"Positive score: {positive_score[0].item():.4f}\")\n",
        "print(f\"Negative score: {negative_score[0].item():.4f}\")"
      ]
    },
    {
      "cell_type": "code",
      "execution_count": null,
      "metadata": {
        "id": "QmUZknOi_8FY"
      },
      "outputs": [],
      "source": [
        "from mcts_script import main\n",
        "\n",
        "# Arguments\n",
        "c = 1.0              # Constante d’exploration, plus haut = plus d’exploration des noeuds les moins visités\n",
        "alpha = 1.0          # Priorité donnée aux probas du modèle ou au score que l’on renvoie\n",
        "temperature = 0.7    # Température utilisée pendant la génération\n",
        "penalty = 1.1        # Pénalité de répétition\n",
        "num_it = 50          # Nombre d’itérations MCTS par token\n",
        "prompt_text = \"This movie was\"\n",
        "\n",
        "\n",
        "# On va générer un texte \"positif\"\n",
        "main(c, alpha, temperature, penalty, num_it, get_positive_score, prompt_text)"
      ]
    },
    {
      "cell_type": "code",
      "execution_count": null,
      "metadata": {
        "id": "xM3eehnn_8FY"
      },
      "outputs": [],
      "source": [
        "# Même chose avec du texte que l’on veut \"négatif\"\n",
        "\n",
        "main(c, alpha, temperature, penalty, num_it, get_negative_score, prompt_text)"
      ]
    }
  ],
  "metadata": {
    "kernelspec": {
      "display_name": "Python 3",
      "name": "python3"
    },
    "language_info": {
      "codemirror_mode": {
        "name": "ipython",
        "version": 3
      },
      "file_extension": ".py",
      "mimetype": "text/x-python",
      "name": "python",
      "nbconvert_exporter": "python",
      "pygments_lexer": "ipython3",
      "version": "3.10.13"
    },
    "colab": {
      "provenance": [],
      "gpuType": "T4"
    },
    "accelerator": "GPU",
    "widgets": {
      "application/vnd.jupyter.widget-state+json": {
        "afd7ab8b83544b8eab74e8c1a9cf1f2a": {
          "model_module": "@jupyter-widgets/controls",
          "model_name": "HBoxModel",
          "model_module_version": "1.5.0",
          "state": {
            "_dom_classes": [],
            "_model_module": "@jupyter-widgets/controls",
            "_model_module_version": "1.5.0",
            "_model_name": "HBoxModel",
            "_view_count": null,
            "_view_module": "@jupyter-widgets/controls",
            "_view_module_version": "1.5.0",
            "_view_name": "HBoxView",
            "box_style": "",
            "children": [
              "IPY_MODEL_cd9a345e57de4ac08dd9c3bc7d1aecbf",
              "IPY_MODEL_128152013d4f40818ac54800e7b94247",
              "IPY_MODEL_cd13d22404e54ce699266b6d7812fe24"
            ],
            "layout": "IPY_MODEL_6e37a02dea704c75b9f1004c75314ade"
          }
        },
        "cd9a345e57de4ac08dd9c3bc7d1aecbf": {
          "model_module": "@jupyter-widgets/controls",
          "model_name": "HTMLModel",
          "model_module_version": "1.5.0",
          "state": {
            "_dom_classes": [],
            "_model_module": "@jupyter-widgets/controls",
            "_model_module_version": "1.5.0",
            "_model_name": "HTMLModel",
            "_view_count": null,
            "_view_module": "@jupyter-widgets/controls",
            "_view_module_version": "1.5.0",
            "_view_name": "HTMLView",
            "description": "",
            "description_tooltip": null,
            "layout": "IPY_MODEL_83da712c714d4951a55096c6d2ef2bc3",
            "placeholder": "​",
            "style": "IPY_MODEL_2a61abfaefd843fc81a31694323e45d2",
            "value": "config.json: 100%"
          }
        },
        "128152013d4f40818ac54800e7b94247": {
          "model_module": "@jupyter-widgets/controls",
          "model_name": "FloatProgressModel",
          "model_module_version": "1.5.0",
          "state": {
            "_dom_classes": [],
            "_model_module": "@jupyter-widgets/controls",
            "_model_module_version": "1.5.0",
            "_model_name": "FloatProgressModel",
            "_view_count": null,
            "_view_module": "@jupyter-widgets/controls",
            "_view_module_version": "1.5.0",
            "_view_name": "ProgressView",
            "bar_style": "success",
            "description": "",
            "description_tooltip": null,
            "layout": "IPY_MODEL_67c6c1e12be04786a763af419455a015",
            "max": 665,
            "min": 0,
            "orientation": "horizontal",
            "style": "IPY_MODEL_dc9b34e9e9944b7baae52c447198bd46",
            "value": 665
          }
        },
        "cd13d22404e54ce699266b6d7812fe24": {
          "model_module": "@jupyter-widgets/controls",
          "model_name": "HTMLModel",
          "model_module_version": "1.5.0",
          "state": {
            "_dom_classes": [],
            "_model_module": "@jupyter-widgets/controls",
            "_model_module_version": "1.5.0",
            "_model_name": "HTMLModel",
            "_view_count": null,
            "_view_module": "@jupyter-widgets/controls",
            "_view_module_version": "1.5.0",
            "_view_name": "HTMLView",
            "description": "",
            "description_tooltip": null,
            "layout": "IPY_MODEL_e200f9ac0ef34c599cabe62eb76abeb9",
            "placeholder": "​",
            "style": "IPY_MODEL_998f903221ef4792b02bd21b0159c038",
            "value": " 665/665 [00:00&lt;00:00, 9.38kB/s]"
          }
        },
        "6e37a02dea704c75b9f1004c75314ade": {
          "model_module": "@jupyter-widgets/base",
          "model_name": "LayoutModel",
          "model_module_version": "1.2.0",
          "state": {
            "_model_module": "@jupyter-widgets/base",
            "_model_module_version": "1.2.0",
            "_model_name": "LayoutModel",
            "_view_count": null,
            "_view_module": "@jupyter-widgets/base",
            "_view_module_version": "1.2.0",
            "_view_name": "LayoutView",
            "align_content": null,
            "align_items": null,
            "align_self": null,
            "border": null,
            "bottom": null,
            "display": null,
            "flex": null,
            "flex_flow": null,
            "grid_area": null,
            "grid_auto_columns": null,
            "grid_auto_flow": null,
            "grid_auto_rows": null,
            "grid_column": null,
            "grid_gap": null,
            "grid_row": null,
            "grid_template_areas": null,
            "grid_template_columns": null,
            "grid_template_rows": null,
            "height": null,
            "justify_content": null,
            "justify_items": null,
            "left": null,
            "margin": null,
            "max_height": null,
            "max_width": null,
            "min_height": null,
            "min_width": null,
            "object_fit": null,
            "object_position": null,
            "order": null,
            "overflow": null,
            "overflow_x": null,
            "overflow_y": null,
            "padding": null,
            "right": null,
            "top": null,
            "visibility": null,
            "width": null
          }
        },
        "83da712c714d4951a55096c6d2ef2bc3": {
          "model_module": "@jupyter-widgets/base",
          "model_name": "LayoutModel",
          "model_module_version": "1.2.0",
          "state": {
            "_model_module": "@jupyter-widgets/base",
            "_model_module_version": "1.2.0",
            "_model_name": "LayoutModel",
            "_view_count": null,
            "_view_module": "@jupyter-widgets/base",
            "_view_module_version": "1.2.0",
            "_view_name": "LayoutView",
            "align_content": null,
            "align_items": null,
            "align_self": null,
            "border": null,
            "bottom": null,
            "display": null,
            "flex": null,
            "flex_flow": null,
            "grid_area": null,
            "grid_auto_columns": null,
            "grid_auto_flow": null,
            "grid_auto_rows": null,
            "grid_column": null,
            "grid_gap": null,
            "grid_row": null,
            "grid_template_areas": null,
            "grid_template_columns": null,
            "grid_template_rows": null,
            "height": null,
            "justify_content": null,
            "justify_items": null,
            "left": null,
            "margin": null,
            "max_height": null,
            "max_width": null,
            "min_height": null,
            "min_width": null,
            "object_fit": null,
            "object_position": null,
            "order": null,
            "overflow": null,
            "overflow_x": null,
            "overflow_y": null,
            "padding": null,
            "right": null,
            "top": null,
            "visibility": null,
            "width": null
          }
        },
        "2a61abfaefd843fc81a31694323e45d2": {
          "model_module": "@jupyter-widgets/controls",
          "model_name": "DescriptionStyleModel",
          "model_module_version": "1.5.0",
          "state": {
            "_model_module": "@jupyter-widgets/controls",
            "_model_module_version": "1.5.0",
            "_model_name": "DescriptionStyleModel",
            "_view_count": null,
            "_view_module": "@jupyter-widgets/base",
            "_view_module_version": "1.2.0",
            "_view_name": "StyleView",
            "description_width": ""
          }
        },
        "67c6c1e12be04786a763af419455a015": {
          "model_module": "@jupyter-widgets/base",
          "model_name": "LayoutModel",
          "model_module_version": "1.2.0",
          "state": {
            "_model_module": "@jupyter-widgets/base",
            "_model_module_version": "1.2.0",
            "_model_name": "LayoutModel",
            "_view_count": null,
            "_view_module": "@jupyter-widgets/base",
            "_view_module_version": "1.2.0",
            "_view_name": "LayoutView",
            "align_content": null,
            "align_items": null,
            "align_self": null,
            "border": null,
            "bottom": null,
            "display": null,
            "flex": null,
            "flex_flow": null,
            "grid_area": null,
            "grid_auto_columns": null,
            "grid_auto_flow": null,
            "grid_auto_rows": null,
            "grid_column": null,
            "grid_gap": null,
            "grid_row": null,
            "grid_template_areas": null,
            "grid_template_columns": null,
            "grid_template_rows": null,
            "height": null,
            "justify_content": null,
            "justify_items": null,
            "left": null,
            "margin": null,
            "max_height": null,
            "max_width": null,
            "min_height": null,
            "min_width": null,
            "object_fit": null,
            "object_position": null,
            "order": null,
            "overflow": null,
            "overflow_x": null,
            "overflow_y": null,
            "padding": null,
            "right": null,
            "top": null,
            "visibility": null,
            "width": null
          }
        },
        "dc9b34e9e9944b7baae52c447198bd46": {
          "model_module": "@jupyter-widgets/controls",
          "model_name": "ProgressStyleModel",
          "model_module_version": "1.5.0",
          "state": {
            "_model_module": "@jupyter-widgets/controls",
            "_model_module_version": "1.5.0",
            "_model_name": "ProgressStyleModel",
            "_view_count": null,
            "_view_module": "@jupyter-widgets/base",
            "_view_module_version": "1.2.0",
            "_view_name": "StyleView",
            "bar_color": null,
            "description_width": ""
          }
        },
        "e200f9ac0ef34c599cabe62eb76abeb9": {
          "model_module": "@jupyter-widgets/base",
          "model_name": "LayoutModel",
          "model_module_version": "1.2.0",
          "state": {
            "_model_module": "@jupyter-widgets/base",
            "_model_module_version": "1.2.0",
            "_model_name": "LayoutModel",
            "_view_count": null,
            "_view_module": "@jupyter-widgets/base",
            "_view_module_version": "1.2.0",
            "_view_name": "LayoutView",
            "align_content": null,
            "align_items": null,
            "align_self": null,
            "border": null,
            "bottom": null,
            "display": null,
            "flex": null,
            "flex_flow": null,
            "grid_area": null,
            "grid_auto_columns": null,
            "grid_auto_flow": null,
            "grid_auto_rows": null,
            "grid_column": null,
            "grid_gap": null,
            "grid_row": null,
            "grid_template_areas": null,
            "grid_template_columns": null,
            "grid_template_rows": null,
            "height": null,
            "justify_content": null,
            "justify_items": null,
            "left": null,
            "margin": null,
            "max_height": null,
            "max_width": null,
            "min_height": null,
            "min_width": null,
            "object_fit": null,
            "object_position": null,
            "order": null,
            "overflow": null,
            "overflow_x": null,
            "overflow_y": null,
            "padding": null,
            "right": null,
            "top": null,
            "visibility": null,
            "width": null
          }
        },
        "998f903221ef4792b02bd21b0159c038": {
          "model_module": "@jupyter-widgets/controls",
          "model_name": "DescriptionStyleModel",
          "model_module_version": "1.5.0",
          "state": {
            "_model_module": "@jupyter-widgets/controls",
            "_model_module_version": "1.5.0",
            "_model_name": "DescriptionStyleModel",
            "_view_count": null,
            "_view_module": "@jupyter-widgets/base",
            "_view_module_version": "1.2.0",
            "_view_name": "StyleView",
            "description_width": ""
          }
        },
        "c8e64a41a9e949b688f636caba17e14a": {
          "model_module": "@jupyter-widgets/controls",
          "model_name": "HBoxModel",
          "model_module_version": "1.5.0",
          "state": {
            "_dom_classes": [],
            "_model_module": "@jupyter-widgets/controls",
            "_model_module_version": "1.5.0",
            "_model_name": "HBoxModel",
            "_view_count": null,
            "_view_module": "@jupyter-widgets/controls",
            "_view_module_version": "1.5.0",
            "_view_name": "HBoxView",
            "box_style": "",
            "children": [
              "IPY_MODEL_8cdb85fa4e5e41dbaec1b8e4df0981a7",
              "IPY_MODEL_862254c02bae42adb6a9bcdb786d9e1f",
              "IPY_MODEL_70e2bb2ded2d486f8b848f69c1ede19e"
            ],
            "layout": "IPY_MODEL_3e3f39ba2cb6492bb97a2e2bcb300ece"
          }
        },
        "8cdb85fa4e5e41dbaec1b8e4df0981a7": {
          "model_module": "@jupyter-widgets/controls",
          "model_name": "HTMLModel",
          "model_module_version": "1.5.0",
          "state": {
            "_dom_classes": [],
            "_model_module": "@jupyter-widgets/controls",
            "_model_module_version": "1.5.0",
            "_model_name": "HTMLModel",
            "_view_count": null,
            "_view_module": "@jupyter-widgets/controls",
            "_view_module_version": "1.5.0",
            "_view_name": "HTMLView",
            "description": "",
            "description_tooltip": null,
            "layout": "IPY_MODEL_87fd8e4ad8ab43f7a83ef0e27c8a7754",
            "placeholder": "​",
            "style": "IPY_MODEL_937736e210ab4512b474f5026cf88628",
            "value": "model.safetensors: 100%"
          }
        },
        "862254c02bae42adb6a9bcdb786d9e1f": {
          "model_module": "@jupyter-widgets/controls",
          "model_name": "FloatProgressModel",
          "model_module_version": "1.5.0",
          "state": {
            "_dom_classes": [],
            "_model_module": "@jupyter-widgets/controls",
            "_model_module_version": "1.5.0",
            "_model_name": "FloatProgressModel",
            "_view_count": null,
            "_view_module": "@jupyter-widgets/controls",
            "_view_module_version": "1.5.0",
            "_view_name": "ProgressView",
            "bar_style": "success",
            "description": "",
            "description_tooltip": null,
            "layout": "IPY_MODEL_180fc80352d443b1bbad3179e3f717cb",
            "max": 548105171,
            "min": 0,
            "orientation": "horizontal",
            "style": "IPY_MODEL_08fe3ec238d2494aa0d734a877c5fe1c",
            "value": 548105171
          }
        },
        "70e2bb2ded2d486f8b848f69c1ede19e": {
          "model_module": "@jupyter-widgets/controls",
          "model_name": "HTMLModel",
          "model_module_version": "1.5.0",
          "state": {
            "_dom_classes": [],
            "_model_module": "@jupyter-widgets/controls",
            "_model_module_version": "1.5.0",
            "_model_name": "HTMLModel",
            "_view_count": null,
            "_view_module": "@jupyter-widgets/controls",
            "_view_module_version": "1.5.0",
            "_view_name": "HTMLView",
            "description": "",
            "description_tooltip": null,
            "layout": "IPY_MODEL_0819a96a01294b7abb130b3143a0d37c",
            "placeholder": "​",
            "style": "IPY_MODEL_2f1dbb619ea4456da3fdaa92c5e9d8ac",
            "value": " 548M/548M [00:02&lt;00:00, 238MB/s]"
          }
        },
        "3e3f39ba2cb6492bb97a2e2bcb300ece": {
          "model_module": "@jupyter-widgets/base",
          "model_name": "LayoutModel",
          "model_module_version": "1.2.0",
          "state": {
            "_model_module": "@jupyter-widgets/base",
            "_model_module_version": "1.2.0",
            "_model_name": "LayoutModel",
            "_view_count": null,
            "_view_module": "@jupyter-widgets/base",
            "_view_module_version": "1.2.0",
            "_view_name": "LayoutView",
            "align_content": null,
            "align_items": null,
            "align_self": null,
            "border": null,
            "bottom": null,
            "display": null,
            "flex": null,
            "flex_flow": null,
            "grid_area": null,
            "grid_auto_columns": null,
            "grid_auto_flow": null,
            "grid_auto_rows": null,
            "grid_column": null,
            "grid_gap": null,
            "grid_row": null,
            "grid_template_areas": null,
            "grid_template_columns": null,
            "grid_template_rows": null,
            "height": null,
            "justify_content": null,
            "justify_items": null,
            "left": null,
            "margin": null,
            "max_height": null,
            "max_width": null,
            "min_height": null,
            "min_width": null,
            "object_fit": null,
            "object_position": null,
            "order": null,
            "overflow": null,
            "overflow_x": null,
            "overflow_y": null,
            "padding": null,
            "right": null,
            "top": null,
            "visibility": null,
            "width": null
          }
        },
        "87fd8e4ad8ab43f7a83ef0e27c8a7754": {
          "model_module": "@jupyter-widgets/base",
          "model_name": "LayoutModel",
          "model_module_version": "1.2.0",
          "state": {
            "_model_module": "@jupyter-widgets/base",
            "_model_module_version": "1.2.0",
            "_model_name": "LayoutModel",
            "_view_count": null,
            "_view_module": "@jupyter-widgets/base",
            "_view_module_version": "1.2.0",
            "_view_name": "LayoutView",
            "align_content": null,
            "align_items": null,
            "align_self": null,
            "border": null,
            "bottom": null,
            "display": null,
            "flex": null,
            "flex_flow": null,
            "grid_area": null,
            "grid_auto_columns": null,
            "grid_auto_flow": null,
            "grid_auto_rows": null,
            "grid_column": null,
            "grid_gap": null,
            "grid_row": null,
            "grid_template_areas": null,
            "grid_template_columns": null,
            "grid_template_rows": null,
            "height": null,
            "justify_content": null,
            "justify_items": null,
            "left": null,
            "margin": null,
            "max_height": null,
            "max_width": null,
            "min_height": null,
            "min_width": null,
            "object_fit": null,
            "object_position": null,
            "order": null,
            "overflow": null,
            "overflow_x": null,
            "overflow_y": null,
            "padding": null,
            "right": null,
            "top": null,
            "visibility": null,
            "width": null
          }
        },
        "937736e210ab4512b474f5026cf88628": {
          "model_module": "@jupyter-widgets/controls",
          "model_name": "DescriptionStyleModel",
          "model_module_version": "1.5.0",
          "state": {
            "_model_module": "@jupyter-widgets/controls",
            "_model_module_version": "1.5.0",
            "_model_name": "DescriptionStyleModel",
            "_view_count": null,
            "_view_module": "@jupyter-widgets/base",
            "_view_module_version": "1.2.0",
            "_view_name": "StyleView",
            "description_width": ""
          }
        },
        "180fc80352d443b1bbad3179e3f717cb": {
          "model_module": "@jupyter-widgets/base",
          "model_name": "LayoutModel",
          "model_module_version": "1.2.0",
          "state": {
            "_model_module": "@jupyter-widgets/base",
            "_model_module_version": "1.2.0",
            "_model_name": "LayoutModel",
            "_view_count": null,
            "_view_module": "@jupyter-widgets/base",
            "_view_module_version": "1.2.0",
            "_view_name": "LayoutView",
            "align_content": null,
            "align_items": null,
            "align_self": null,
            "border": null,
            "bottom": null,
            "display": null,
            "flex": null,
            "flex_flow": null,
            "grid_area": null,
            "grid_auto_columns": null,
            "grid_auto_flow": null,
            "grid_auto_rows": null,
            "grid_column": null,
            "grid_gap": null,
            "grid_row": null,
            "grid_template_areas": null,
            "grid_template_columns": null,
            "grid_template_rows": null,
            "height": null,
            "justify_content": null,
            "justify_items": null,
            "left": null,
            "margin": null,
            "max_height": null,
            "max_width": null,
            "min_height": null,
            "min_width": null,
            "object_fit": null,
            "object_position": null,
            "order": null,
            "overflow": null,
            "overflow_x": null,
            "overflow_y": null,
            "padding": null,
            "right": null,
            "top": null,
            "visibility": null,
            "width": null
          }
        },
        "08fe3ec238d2494aa0d734a877c5fe1c": {
          "model_module": "@jupyter-widgets/controls",
          "model_name": "ProgressStyleModel",
          "model_module_version": "1.5.0",
          "state": {
            "_model_module": "@jupyter-widgets/controls",
            "_model_module_version": "1.5.0",
            "_model_name": "ProgressStyleModel",
            "_view_count": null,
            "_view_module": "@jupyter-widgets/base",
            "_view_module_version": "1.2.0",
            "_view_name": "StyleView",
            "bar_color": null,
            "description_width": ""
          }
        },
        "0819a96a01294b7abb130b3143a0d37c": {
          "model_module": "@jupyter-widgets/base",
          "model_name": "LayoutModel",
          "model_module_version": "1.2.0",
          "state": {
            "_model_module": "@jupyter-widgets/base",
            "_model_module_version": "1.2.0",
            "_model_name": "LayoutModel",
            "_view_count": null,
            "_view_module": "@jupyter-widgets/base",
            "_view_module_version": "1.2.0",
            "_view_name": "LayoutView",
            "align_content": null,
            "align_items": null,
            "align_self": null,
            "border": null,
            "bottom": null,
            "display": null,
            "flex": null,
            "flex_flow": null,
            "grid_area": null,
            "grid_auto_columns": null,
            "grid_auto_flow": null,
            "grid_auto_rows": null,
            "grid_column": null,
            "grid_gap": null,
            "grid_row": null,
            "grid_template_areas": null,
            "grid_template_columns": null,
            "grid_template_rows": null,
            "height": null,
            "justify_content": null,
            "justify_items": null,
            "left": null,
            "margin": null,
            "max_height": null,
            "max_width": null,
            "min_height": null,
            "min_width": null,
            "object_fit": null,
            "object_position": null,
            "order": null,
            "overflow": null,
            "overflow_x": null,
            "overflow_y": null,
            "padding": null,
            "right": null,
            "top": null,
            "visibility": null,
            "width": null
          }
        },
        "2f1dbb619ea4456da3fdaa92c5e9d8ac": {
          "model_module": "@jupyter-widgets/controls",
          "model_name": "DescriptionStyleModel",
          "model_module_version": "1.5.0",
          "state": {
            "_model_module": "@jupyter-widgets/controls",
            "_model_module_version": "1.5.0",
            "_model_name": "DescriptionStyleModel",
            "_view_count": null,
            "_view_module": "@jupyter-widgets/base",
            "_view_module_version": "1.2.0",
            "_view_name": "StyleView",
            "description_width": ""
          }
        },
        "50ae9c97d96c405585ffd925efdfbb15": {
          "model_module": "@jupyter-widgets/controls",
          "model_name": "HBoxModel",
          "model_module_version": "1.5.0",
          "state": {
            "_dom_classes": [],
            "_model_module": "@jupyter-widgets/controls",
            "_model_module_version": "1.5.0",
            "_model_name": "HBoxModel",
            "_view_count": null,
            "_view_module": "@jupyter-widgets/controls",
            "_view_module_version": "1.5.0",
            "_view_name": "HBoxView",
            "box_style": "",
            "children": [
              "IPY_MODEL_210e139bbd3a40f7ab64b278c55ef395",
              "IPY_MODEL_d75a04c966de4ea4821f743c3c20ac06",
              "IPY_MODEL_e2e6d6e693aa48068a34961266647a4c"
            ],
            "layout": "IPY_MODEL_d33212b159944d9691b669fccdd9e8aa"
          }
        },
        "210e139bbd3a40f7ab64b278c55ef395": {
          "model_module": "@jupyter-widgets/controls",
          "model_name": "HTMLModel",
          "model_module_version": "1.5.0",
          "state": {
            "_dom_classes": [],
            "_model_module": "@jupyter-widgets/controls",
            "_model_module_version": "1.5.0",
            "_model_name": "HTMLModel",
            "_view_count": null,
            "_view_module": "@jupyter-widgets/controls",
            "_view_module_version": "1.5.0",
            "_view_name": "HTMLView",
            "description": "",
            "description_tooltip": null,
            "layout": "IPY_MODEL_1eb8e0c66e0b47b98636904ee5ed512f",
            "placeholder": "​",
            "style": "IPY_MODEL_5b618ab724704be9a67e37cf764a69ab",
            "value": "generation_config.json: 100%"
          }
        },
        "d75a04c966de4ea4821f743c3c20ac06": {
          "model_module": "@jupyter-widgets/controls",
          "model_name": "FloatProgressModel",
          "model_module_version": "1.5.0",
          "state": {
            "_dom_classes": [],
            "_model_module": "@jupyter-widgets/controls",
            "_model_module_version": "1.5.0",
            "_model_name": "FloatProgressModel",
            "_view_count": null,
            "_view_module": "@jupyter-widgets/controls",
            "_view_module_version": "1.5.0",
            "_view_name": "ProgressView",
            "bar_style": "success",
            "description": "",
            "description_tooltip": null,
            "layout": "IPY_MODEL_1d67bd3c067e44c6b74b47e4e39770a7",
            "max": 124,
            "min": 0,
            "orientation": "horizontal",
            "style": "IPY_MODEL_b79191ee1f1349f5a3b3c28c60d84fd8",
            "value": 124
          }
        },
        "e2e6d6e693aa48068a34961266647a4c": {
          "model_module": "@jupyter-widgets/controls",
          "model_name": "HTMLModel",
          "model_module_version": "1.5.0",
          "state": {
            "_dom_classes": [],
            "_model_module": "@jupyter-widgets/controls",
            "_model_module_version": "1.5.0",
            "_model_name": "HTMLModel",
            "_view_count": null,
            "_view_module": "@jupyter-widgets/controls",
            "_view_module_version": "1.5.0",
            "_view_name": "HTMLView",
            "description": "",
            "description_tooltip": null,
            "layout": "IPY_MODEL_d37a16e142de476a98c8fd939b1306c1",
            "placeholder": "​",
            "style": "IPY_MODEL_f3e52b4a8b344a478ff3f95780cfc6e6",
            "value": " 124/124 [00:00&lt;00:00, 7.88kB/s]"
          }
        },
        "d33212b159944d9691b669fccdd9e8aa": {
          "model_module": "@jupyter-widgets/base",
          "model_name": "LayoutModel",
          "model_module_version": "1.2.0",
          "state": {
            "_model_module": "@jupyter-widgets/base",
            "_model_module_version": "1.2.0",
            "_model_name": "LayoutModel",
            "_view_count": null,
            "_view_module": "@jupyter-widgets/base",
            "_view_module_version": "1.2.0",
            "_view_name": "LayoutView",
            "align_content": null,
            "align_items": null,
            "align_self": null,
            "border": null,
            "bottom": null,
            "display": null,
            "flex": null,
            "flex_flow": null,
            "grid_area": null,
            "grid_auto_columns": null,
            "grid_auto_flow": null,
            "grid_auto_rows": null,
            "grid_column": null,
            "grid_gap": null,
            "grid_row": null,
            "grid_template_areas": null,
            "grid_template_columns": null,
            "grid_template_rows": null,
            "height": null,
            "justify_content": null,
            "justify_items": null,
            "left": null,
            "margin": null,
            "max_height": null,
            "max_width": null,
            "min_height": null,
            "min_width": null,
            "object_fit": null,
            "object_position": null,
            "order": null,
            "overflow": null,
            "overflow_x": null,
            "overflow_y": null,
            "padding": null,
            "right": null,
            "top": null,
            "visibility": null,
            "width": null
          }
        },
        "1eb8e0c66e0b47b98636904ee5ed512f": {
          "model_module": "@jupyter-widgets/base",
          "model_name": "LayoutModel",
          "model_module_version": "1.2.0",
          "state": {
            "_model_module": "@jupyter-widgets/base",
            "_model_module_version": "1.2.0",
            "_model_name": "LayoutModel",
            "_view_count": null,
            "_view_module": "@jupyter-widgets/base",
            "_view_module_version": "1.2.0",
            "_view_name": "LayoutView",
            "align_content": null,
            "align_items": null,
            "align_self": null,
            "border": null,
            "bottom": null,
            "display": null,
            "flex": null,
            "flex_flow": null,
            "grid_area": null,
            "grid_auto_columns": null,
            "grid_auto_flow": null,
            "grid_auto_rows": null,
            "grid_column": null,
            "grid_gap": null,
            "grid_row": null,
            "grid_template_areas": null,
            "grid_template_columns": null,
            "grid_template_rows": null,
            "height": null,
            "justify_content": null,
            "justify_items": null,
            "left": null,
            "margin": null,
            "max_height": null,
            "max_width": null,
            "min_height": null,
            "min_width": null,
            "object_fit": null,
            "object_position": null,
            "order": null,
            "overflow": null,
            "overflow_x": null,
            "overflow_y": null,
            "padding": null,
            "right": null,
            "top": null,
            "visibility": null,
            "width": null
          }
        },
        "5b618ab724704be9a67e37cf764a69ab": {
          "model_module": "@jupyter-widgets/controls",
          "model_name": "DescriptionStyleModel",
          "model_module_version": "1.5.0",
          "state": {
            "_model_module": "@jupyter-widgets/controls",
            "_model_module_version": "1.5.0",
            "_model_name": "DescriptionStyleModel",
            "_view_count": null,
            "_view_module": "@jupyter-widgets/base",
            "_view_module_version": "1.2.0",
            "_view_name": "StyleView",
            "description_width": ""
          }
        },
        "1d67bd3c067e44c6b74b47e4e39770a7": {
          "model_module": "@jupyter-widgets/base",
          "model_name": "LayoutModel",
          "model_module_version": "1.2.0",
          "state": {
            "_model_module": "@jupyter-widgets/base",
            "_model_module_version": "1.2.0",
            "_model_name": "LayoutModel",
            "_view_count": null,
            "_view_module": "@jupyter-widgets/base",
            "_view_module_version": "1.2.0",
            "_view_name": "LayoutView",
            "align_content": null,
            "align_items": null,
            "align_self": null,
            "border": null,
            "bottom": null,
            "display": null,
            "flex": null,
            "flex_flow": null,
            "grid_area": null,
            "grid_auto_columns": null,
            "grid_auto_flow": null,
            "grid_auto_rows": null,
            "grid_column": null,
            "grid_gap": null,
            "grid_row": null,
            "grid_template_areas": null,
            "grid_template_columns": null,
            "grid_template_rows": null,
            "height": null,
            "justify_content": null,
            "justify_items": null,
            "left": null,
            "margin": null,
            "max_height": null,
            "max_width": null,
            "min_height": null,
            "min_width": null,
            "object_fit": null,
            "object_position": null,
            "order": null,
            "overflow": null,
            "overflow_x": null,
            "overflow_y": null,
            "padding": null,
            "right": null,
            "top": null,
            "visibility": null,
            "width": null
          }
        },
        "b79191ee1f1349f5a3b3c28c60d84fd8": {
          "model_module": "@jupyter-widgets/controls",
          "model_name": "ProgressStyleModel",
          "model_module_version": "1.5.0",
          "state": {
            "_model_module": "@jupyter-widgets/controls",
            "_model_module_version": "1.5.0",
            "_model_name": "ProgressStyleModel",
            "_view_count": null,
            "_view_module": "@jupyter-widgets/base",
            "_view_module_version": "1.2.0",
            "_view_name": "StyleView",
            "bar_color": null,
            "description_width": ""
          }
        },
        "d37a16e142de476a98c8fd939b1306c1": {
          "model_module": "@jupyter-widgets/base",
          "model_name": "LayoutModel",
          "model_module_version": "1.2.0",
          "state": {
            "_model_module": "@jupyter-widgets/base",
            "_model_module_version": "1.2.0",
            "_model_name": "LayoutModel",
            "_view_count": null,
            "_view_module": "@jupyter-widgets/base",
            "_view_module_version": "1.2.0",
            "_view_name": "LayoutView",
            "align_content": null,
            "align_items": null,
            "align_self": null,
            "border": null,
            "bottom": null,
            "display": null,
            "flex": null,
            "flex_flow": null,
            "grid_area": null,
            "grid_auto_columns": null,
            "grid_auto_flow": null,
            "grid_auto_rows": null,
            "grid_column": null,
            "grid_gap": null,
            "grid_row": null,
            "grid_template_areas": null,
            "grid_template_columns": null,
            "grid_template_rows": null,
            "height": null,
            "justify_content": null,
            "justify_items": null,
            "left": null,
            "margin": null,
            "max_height": null,
            "max_width": null,
            "min_height": null,
            "min_width": null,
            "object_fit": null,
            "object_position": null,
            "order": null,
            "overflow": null,
            "overflow_x": null,
            "overflow_y": null,
            "padding": null,
            "right": null,
            "top": null,
            "visibility": null,
            "width": null
          }
        },
        "f3e52b4a8b344a478ff3f95780cfc6e6": {
          "model_module": "@jupyter-widgets/controls",
          "model_name": "DescriptionStyleModel",
          "model_module_version": "1.5.0",
          "state": {
            "_model_module": "@jupyter-widgets/controls",
            "_model_module_version": "1.5.0",
            "_model_name": "DescriptionStyleModel",
            "_view_count": null,
            "_view_module": "@jupyter-widgets/base",
            "_view_module_version": "1.2.0",
            "_view_name": "StyleView",
            "description_width": ""
          }
        },
        "71e8c668bf714a7585246f5abedf9c07": {
          "model_module": "@jupyter-widgets/controls",
          "model_name": "HBoxModel",
          "model_module_version": "1.5.0",
          "state": {
            "_dom_classes": [],
            "_model_module": "@jupyter-widgets/controls",
            "_model_module_version": "1.5.0",
            "_model_name": "HBoxModel",
            "_view_count": null,
            "_view_module": "@jupyter-widgets/controls",
            "_view_module_version": "1.5.0",
            "_view_name": "HBoxView",
            "box_style": "",
            "children": [
              "IPY_MODEL_01a4ae346861472994c889c064c47e07",
              "IPY_MODEL_45b9e2ec5eb54827ac1365bcdcdf581a",
              "IPY_MODEL_4dcbfec1643242089802acc9406637b6"
            ],
            "layout": "IPY_MODEL_2d38e96aa03e4ec4b384ebd323986891"
          }
        },
        "01a4ae346861472994c889c064c47e07": {
          "model_module": "@jupyter-widgets/controls",
          "model_name": "HTMLModel",
          "model_module_version": "1.5.0",
          "state": {
            "_dom_classes": [],
            "_model_module": "@jupyter-widgets/controls",
            "_model_module_version": "1.5.0",
            "_model_name": "HTMLModel",
            "_view_count": null,
            "_view_module": "@jupyter-widgets/controls",
            "_view_module_version": "1.5.0",
            "_view_name": "HTMLView",
            "description": "",
            "description_tooltip": null,
            "layout": "IPY_MODEL_47e5d00ee31c466aae636631591e2056",
            "placeholder": "​",
            "style": "IPY_MODEL_15aeaa163e5b4fa29d0bd7f8e8de67fe",
            "value": "tokenizer_config.json: 100%"
          }
        },
        "45b9e2ec5eb54827ac1365bcdcdf581a": {
          "model_module": "@jupyter-widgets/controls",
          "model_name": "FloatProgressModel",
          "model_module_version": "1.5.0",
          "state": {
            "_dom_classes": [],
            "_model_module": "@jupyter-widgets/controls",
            "_model_module_version": "1.5.0",
            "_model_name": "FloatProgressModel",
            "_view_count": null,
            "_view_module": "@jupyter-widgets/controls",
            "_view_module_version": "1.5.0",
            "_view_name": "ProgressView",
            "bar_style": "success",
            "description": "",
            "description_tooltip": null,
            "layout": "IPY_MODEL_71d5512670cf43069947285083140535",
            "max": 26,
            "min": 0,
            "orientation": "horizontal",
            "style": "IPY_MODEL_620e70b06ee545329ba783986e3fecdf",
            "value": 26
          }
        },
        "4dcbfec1643242089802acc9406637b6": {
          "model_module": "@jupyter-widgets/controls",
          "model_name": "HTMLModel",
          "model_module_version": "1.5.0",
          "state": {
            "_dom_classes": [],
            "_model_module": "@jupyter-widgets/controls",
            "_model_module_version": "1.5.0",
            "_model_name": "HTMLModel",
            "_view_count": null,
            "_view_module": "@jupyter-widgets/controls",
            "_view_module_version": "1.5.0",
            "_view_name": "HTMLView",
            "description": "",
            "description_tooltip": null,
            "layout": "IPY_MODEL_97d41134ae294080a528c03432949e11",
            "placeholder": "​",
            "style": "IPY_MODEL_9e78c3e8837549fa9ba8c57f9116ec59",
            "value": " 26.0/26.0 [00:00&lt;00:00, 1.90kB/s]"
          }
        },
        "2d38e96aa03e4ec4b384ebd323986891": {
          "model_module": "@jupyter-widgets/base",
          "model_name": "LayoutModel",
          "model_module_version": "1.2.0",
          "state": {
            "_model_module": "@jupyter-widgets/base",
            "_model_module_version": "1.2.0",
            "_model_name": "LayoutModel",
            "_view_count": null,
            "_view_module": "@jupyter-widgets/base",
            "_view_module_version": "1.2.0",
            "_view_name": "LayoutView",
            "align_content": null,
            "align_items": null,
            "align_self": null,
            "border": null,
            "bottom": null,
            "display": null,
            "flex": null,
            "flex_flow": null,
            "grid_area": null,
            "grid_auto_columns": null,
            "grid_auto_flow": null,
            "grid_auto_rows": null,
            "grid_column": null,
            "grid_gap": null,
            "grid_row": null,
            "grid_template_areas": null,
            "grid_template_columns": null,
            "grid_template_rows": null,
            "height": null,
            "justify_content": null,
            "justify_items": null,
            "left": null,
            "margin": null,
            "max_height": null,
            "max_width": null,
            "min_height": null,
            "min_width": null,
            "object_fit": null,
            "object_position": null,
            "order": null,
            "overflow": null,
            "overflow_x": null,
            "overflow_y": null,
            "padding": null,
            "right": null,
            "top": null,
            "visibility": null,
            "width": null
          }
        },
        "47e5d00ee31c466aae636631591e2056": {
          "model_module": "@jupyter-widgets/base",
          "model_name": "LayoutModel",
          "model_module_version": "1.2.0",
          "state": {
            "_model_module": "@jupyter-widgets/base",
            "_model_module_version": "1.2.0",
            "_model_name": "LayoutModel",
            "_view_count": null,
            "_view_module": "@jupyter-widgets/base",
            "_view_module_version": "1.2.0",
            "_view_name": "LayoutView",
            "align_content": null,
            "align_items": null,
            "align_self": null,
            "border": null,
            "bottom": null,
            "display": null,
            "flex": null,
            "flex_flow": null,
            "grid_area": null,
            "grid_auto_columns": null,
            "grid_auto_flow": null,
            "grid_auto_rows": null,
            "grid_column": null,
            "grid_gap": null,
            "grid_row": null,
            "grid_template_areas": null,
            "grid_template_columns": null,
            "grid_template_rows": null,
            "height": null,
            "justify_content": null,
            "justify_items": null,
            "left": null,
            "margin": null,
            "max_height": null,
            "max_width": null,
            "min_height": null,
            "min_width": null,
            "object_fit": null,
            "object_position": null,
            "order": null,
            "overflow": null,
            "overflow_x": null,
            "overflow_y": null,
            "padding": null,
            "right": null,
            "top": null,
            "visibility": null,
            "width": null
          }
        },
        "15aeaa163e5b4fa29d0bd7f8e8de67fe": {
          "model_module": "@jupyter-widgets/controls",
          "model_name": "DescriptionStyleModel",
          "model_module_version": "1.5.0",
          "state": {
            "_model_module": "@jupyter-widgets/controls",
            "_model_module_version": "1.5.0",
            "_model_name": "DescriptionStyleModel",
            "_view_count": null,
            "_view_module": "@jupyter-widgets/base",
            "_view_module_version": "1.2.0",
            "_view_name": "StyleView",
            "description_width": ""
          }
        },
        "71d5512670cf43069947285083140535": {
          "model_module": "@jupyter-widgets/base",
          "model_name": "LayoutModel",
          "model_module_version": "1.2.0",
          "state": {
            "_model_module": "@jupyter-widgets/base",
            "_model_module_version": "1.2.0",
            "_model_name": "LayoutModel",
            "_view_count": null,
            "_view_module": "@jupyter-widgets/base",
            "_view_module_version": "1.2.0",
            "_view_name": "LayoutView",
            "align_content": null,
            "align_items": null,
            "align_self": null,
            "border": null,
            "bottom": null,
            "display": null,
            "flex": null,
            "flex_flow": null,
            "grid_area": null,
            "grid_auto_columns": null,
            "grid_auto_flow": null,
            "grid_auto_rows": null,
            "grid_column": null,
            "grid_gap": null,
            "grid_row": null,
            "grid_template_areas": null,
            "grid_template_columns": null,
            "grid_template_rows": null,
            "height": null,
            "justify_content": null,
            "justify_items": null,
            "left": null,
            "margin": null,
            "max_height": null,
            "max_width": null,
            "min_height": null,
            "min_width": null,
            "object_fit": null,
            "object_position": null,
            "order": null,
            "overflow": null,
            "overflow_x": null,
            "overflow_y": null,
            "padding": null,
            "right": null,
            "top": null,
            "visibility": null,
            "width": null
          }
        },
        "620e70b06ee545329ba783986e3fecdf": {
          "model_module": "@jupyter-widgets/controls",
          "model_name": "ProgressStyleModel",
          "model_module_version": "1.5.0",
          "state": {
            "_model_module": "@jupyter-widgets/controls",
            "_model_module_version": "1.5.0",
            "_model_name": "ProgressStyleModel",
            "_view_count": null,
            "_view_module": "@jupyter-widgets/base",
            "_view_module_version": "1.2.0",
            "_view_name": "StyleView",
            "bar_color": null,
            "description_width": ""
          }
        },
        "97d41134ae294080a528c03432949e11": {
          "model_module": "@jupyter-widgets/base",
          "model_name": "LayoutModel",
          "model_module_version": "1.2.0",
          "state": {
            "_model_module": "@jupyter-widgets/base",
            "_model_module_version": "1.2.0",
            "_model_name": "LayoutModel",
            "_view_count": null,
            "_view_module": "@jupyter-widgets/base",
            "_view_module_version": "1.2.0",
            "_view_name": "LayoutView",
            "align_content": null,
            "align_items": null,
            "align_self": null,
            "border": null,
            "bottom": null,
            "display": null,
            "flex": null,
            "flex_flow": null,
            "grid_area": null,
            "grid_auto_columns": null,
            "grid_auto_flow": null,
            "grid_auto_rows": null,
            "grid_column": null,
            "grid_gap": null,
            "grid_row": null,
            "grid_template_areas": null,
            "grid_template_columns": null,
            "grid_template_rows": null,
            "height": null,
            "justify_content": null,
            "justify_items": null,
            "left": null,
            "margin": null,
            "max_height": null,
            "max_width": null,
            "min_height": null,
            "min_width": null,
            "object_fit": null,
            "object_position": null,
            "order": null,
            "overflow": null,
            "overflow_x": null,
            "overflow_y": null,
            "padding": null,
            "right": null,
            "top": null,
            "visibility": null,
            "width": null
          }
        },
        "9e78c3e8837549fa9ba8c57f9116ec59": {
          "model_module": "@jupyter-widgets/controls",
          "model_name": "DescriptionStyleModel",
          "model_module_version": "1.5.0",
          "state": {
            "_model_module": "@jupyter-widgets/controls",
            "_model_module_version": "1.5.0",
            "_model_name": "DescriptionStyleModel",
            "_view_count": null,
            "_view_module": "@jupyter-widgets/base",
            "_view_module_version": "1.2.0",
            "_view_name": "StyleView",
            "description_width": ""
          }
        },
        "6dfdb44bbfd74f43b88b7c96615927a2": {
          "model_module": "@jupyter-widgets/controls",
          "model_name": "HBoxModel",
          "model_module_version": "1.5.0",
          "state": {
            "_dom_classes": [],
            "_model_module": "@jupyter-widgets/controls",
            "_model_module_version": "1.5.0",
            "_model_name": "HBoxModel",
            "_view_count": null,
            "_view_module": "@jupyter-widgets/controls",
            "_view_module_version": "1.5.0",
            "_view_name": "HBoxView",
            "box_style": "",
            "children": [
              "IPY_MODEL_cd489aa927d14a11a30619edb408fb78",
              "IPY_MODEL_97f1529761a0493e8959bd9cc1ea936c",
              "IPY_MODEL_2aaa618c13cb4a4caeecc6d4d54486d1"
            ],
            "layout": "IPY_MODEL_8678e2f391b445a6a9177c39b4240328"
          }
        },
        "cd489aa927d14a11a30619edb408fb78": {
          "model_module": "@jupyter-widgets/controls",
          "model_name": "HTMLModel",
          "model_module_version": "1.5.0",
          "state": {
            "_dom_classes": [],
            "_model_module": "@jupyter-widgets/controls",
            "_model_module_version": "1.5.0",
            "_model_name": "HTMLModel",
            "_view_count": null,
            "_view_module": "@jupyter-widgets/controls",
            "_view_module_version": "1.5.0",
            "_view_name": "HTMLView",
            "description": "",
            "description_tooltip": null,
            "layout": "IPY_MODEL_d5bb8807af6c4606b0406999204aeaaf",
            "placeholder": "​",
            "style": "IPY_MODEL_76db3aea4c4b41109b329121731c4cd5",
            "value": "vocab.json: 100%"
          }
        },
        "97f1529761a0493e8959bd9cc1ea936c": {
          "model_module": "@jupyter-widgets/controls",
          "model_name": "FloatProgressModel",
          "model_module_version": "1.5.0",
          "state": {
            "_dom_classes": [],
            "_model_module": "@jupyter-widgets/controls",
            "_model_module_version": "1.5.0",
            "_model_name": "FloatProgressModel",
            "_view_count": null,
            "_view_module": "@jupyter-widgets/controls",
            "_view_module_version": "1.5.0",
            "_view_name": "ProgressView",
            "bar_style": "success",
            "description": "",
            "description_tooltip": null,
            "layout": "IPY_MODEL_da8007dd5a4f4c10a89b816ffb1e964d",
            "max": 1042301,
            "min": 0,
            "orientation": "horizontal",
            "style": "IPY_MODEL_6c31602c498b40adbd582846bd2ec471",
            "value": 1042301
          }
        },
        "2aaa618c13cb4a4caeecc6d4d54486d1": {
          "model_module": "@jupyter-widgets/controls",
          "model_name": "HTMLModel",
          "model_module_version": "1.5.0",
          "state": {
            "_dom_classes": [],
            "_model_module": "@jupyter-widgets/controls",
            "_model_module_version": "1.5.0",
            "_model_name": "HTMLModel",
            "_view_count": null,
            "_view_module": "@jupyter-widgets/controls",
            "_view_module_version": "1.5.0",
            "_view_name": "HTMLView",
            "description": "",
            "description_tooltip": null,
            "layout": "IPY_MODEL_867bfdd419cb4d8ca62322d0fda97579",
            "placeholder": "​",
            "style": "IPY_MODEL_968338ef13894440b74437d86bcbcd8f",
            "value": " 1.04M/1.04M [00:00&lt;00:00, 5.23MB/s]"
          }
        },
        "8678e2f391b445a6a9177c39b4240328": {
          "model_module": "@jupyter-widgets/base",
          "model_name": "LayoutModel",
          "model_module_version": "1.2.0",
          "state": {
            "_model_module": "@jupyter-widgets/base",
            "_model_module_version": "1.2.0",
            "_model_name": "LayoutModel",
            "_view_count": null,
            "_view_module": "@jupyter-widgets/base",
            "_view_module_version": "1.2.0",
            "_view_name": "LayoutView",
            "align_content": null,
            "align_items": null,
            "align_self": null,
            "border": null,
            "bottom": null,
            "display": null,
            "flex": null,
            "flex_flow": null,
            "grid_area": null,
            "grid_auto_columns": null,
            "grid_auto_flow": null,
            "grid_auto_rows": null,
            "grid_column": null,
            "grid_gap": null,
            "grid_row": null,
            "grid_template_areas": null,
            "grid_template_columns": null,
            "grid_template_rows": null,
            "height": null,
            "justify_content": null,
            "justify_items": null,
            "left": null,
            "margin": null,
            "max_height": null,
            "max_width": null,
            "min_height": null,
            "min_width": null,
            "object_fit": null,
            "object_position": null,
            "order": null,
            "overflow": null,
            "overflow_x": null,
            "overflow_y": null,
            "padding": null,
            "right": null,
            "top": null,
            "visibility": null,
            "width": null
          }
        },
        "d5bb8807af6c4606b0406999204aeaaf": {
          "model_module": "@jupyter-widgets/base",
          "model_name": "LayoutModel",
          "model_module_version": "1.2.0",
          "state": {
            "_model_module": "@jupyter-widgets/base",
            "_model_module_version": "1.2.0",
            "_model_name": "LayoutModel",
            "_view_count": null,
            "_view_module": "@jupyter-widgets/base",
            "_view_module_version": "1.2.0",
            "_view_name": "LayoutView",
            "align_content": null,
            "align_items": null,
            "align_self": null,
            "border": null,
            "bottom": null,
            "display": null,
            "flex": null,
            "flex_flow": null,
            "grid_area": null,
            "grid_auto_columns": null,
            "grid_auto_flow": null,
            "grid_auto_rows": null,
            "grid_column": null,
            "grid_gap": null,
            "grid_row": null,
            "grid_template_areas": null,
            "grid_template_columns": null,
            "grid_template_rows": null,
            "height": null,
            "justify_content": null,
            "justify_items": null,
            "left": null,
            "margin": null,
            "max_height": null,
            "max_width": null,
            "min_height": null,
            "min_width": null,
            "object_fit": null,
            "object_position": null,
            "order": null,
            "overflow": null,
            "overflow_x": null,
            "overflow_y": null,
            "padding": null,
            "right": null,
            "top": null,
            "visibility": null,
            "width": null
          }
        },
        "76db3aea4c4b41109b329121731c4cd5": {
          "model_module": "@jupyter-widgets/controls",
          "model_name": "DescriptionStyleModel",
          "model_module_version": "1.5.0",
          "state": {
            "_model_module": "@jupyter-widgets/controls",
            "_model_module_version": "1.5.0",
            "_model_name": "DescriptionStyleModel",
            "_view_count": null,
            "_view_module": "@jupyter-widgets/base",
            "_view_module_version": "1.2.0",
            "_view_name": "StyleView",
            "description_width": ""
          }
        },
        "da8007dd5a4f4c10a89b816ffb1e964d": {
          "model_module": "@jupyter-widgets/base",
          "model_name": "LayoutModel",
          "model_module_version": "1.2.0",
          "state": {
            "_model_module": "@jupyter-widgets/base",
            "_model_module_version": "1.2.0",
            "_model_name": "LayoutModel",
            "_view_count": null,
            "_view_module": "@jupyter-widgets/base",
            "_view_module_version": "1.2.0",
            "_view_name": "LayoutView",
            "align_content": null,
            "align_items": null,
            "align_self": null,
            "border": null,
            "bottom": null,
            "display": null,
            "flex": null,
            "flex_flow": null,
            "grid_area": null,
            "grid_auto_columns": null,
            "grid_auto_flow": null,
            "grid_auto_rows": null,
            "grid_column": null,
            "grid_gap": null,
            "grid_row": null,
            "grid_template_areas": null,
            "grid_template_columns": null,
            "grid_template_rows": null,
            "height": null,
            "justify_content": null,
            "justify_items": null,
            "left": null,
            "margin": null,
            "max_height": null,
            "max_width": null,
            "min_height": null,
            "min_width": null,
            "object_fit": null,
            "object_position": null,
            "order": null,
            "overflow": null,
            "overflow_x": null,
            "overflow_y": null,
            "padding": null,
            "right": null,
            "top": null,
            "visibility": null,
            "width": null
          }
        },
        "6c31602c498b40adbd582846bd2ec471": {
          "model_module": "@jupyter-widgets/controls",
          "model_name": "ProgressStyleModel",
          "model_module_version": "1.5.0",
          "state": {
            "_model_module": "@jupyter-widgets/controls",
            "_model_module_version": "1.5.0",
            "_model_name": "ProgressStyleModel",
            "_view_count": null,
            "_view_module": "@jupyter-widgets/base",
            "_view_module_version": "1.2.0",
            "_view_name": "StyleView",
            "bar_color": null,
            "description_width": ""
          }
        },
        "867bfdd419cb4d8ca62322d0fda97579": {
          "model_module": "@jupyter-widgets/base",
          "model_name": "LayoutModel",
          "model_module_version": "1.2.0",
          "state": {
            "_model_module": "@jupyter-widgets/base",
            "_model_module_version": "1.2.0",
            "_model_name": "LayoutModel",
            "_view_count": null,
            "_view_module": "@jupyter-widgets/base",
            "_view_module_version": "1.2.0",
            "_view_name": "LayoutView",
            "align_content": null,
            "align_items": null,
            "align_self": null,
            "border": null,
            "bottom": null,
            "display": null,
            "flex": null,
            "flex_flow": null,
            "grid_area": null,
            "grid_auto_columns": null,
            "grid_auto_flow": null,
            "grid_auto_rows": null,
            "grid_column": null,
            "grid_gap": null,
            "grid_row": null,
            "grid_template_areas": null,
            "grid_template_columns": null,
            "grid_template_rows": null,
            "height": null,
            "justify_content": null,
            "justify_items": null,
            "left": null,
            "margin": null,
            "max_height": null,
            "max_width": null,
            "min_height": null,
            "min_width": null,
            "object_fit": null,
            "object_position": null,
            "order": null,
            "overflow": null,
            "overflow_x": null,
            "overflow_y": null,
            "padding": null,
            "right": null,
            "top": null,
            "visibility": null,
            "width": null
          }
        },
        "968338ef13894440b74437d86bcbcd8f": {
          "model_module": "@jupyter-widgets/controls",
          "model_name": "DescriptionStyleModel",
          "model_module_version": "1.5.0",
          "state": {
            "_model_module": "@jupyter-widgets/controls",
            "_model_module_version": "1.5.0",
            "_model_name": "DescriptionStyleModel",
            "_view_count": null,
            "_view_module": "@jupyter-widgets/base",
            "_view_module_version": "1.2.0",
            "_view_name": "StyleView",
            "description_width": ""
          }
        },
        "0fcce4e433e04708a3335a247e3dd500": {
          "model_module": "@jupyter-widgets/controls",
          "model_name": "HBoxModel",
          "model_module_version": "1.5.0",
          "state": {
            "_dom_classes": [],
            "_model_module": "@jupyter-widgets/controls",
            "_model_module_version": "1.5.0",
            "_model_name": "HBoxModel",
            "_view_count": null,
            "_view_module": "@jupyter-widgets/controls",
            "_view_module_version": "1.5.0",
            "_view_name": "HBoxView",
            "box_style": "",
            "children": [
              "IPY_MODEL_74119c4b56ca4223b69079d43374ae7d",
              "IPY_MODEL_14a10a7f85aa4eaca16bd42a2443f9aa",
              "IPY_MODEL_ba8da38cdb3840d68276db3327ccaf99"
            ],
            "layout": "IPY_MODEL_4b11d10c67714c068105ae303fd52053"
          }
        },
        "74119c4b56ca4223b69079d43374ae7d": {
          "model_module": "@jupyter-widgets/controls",
          "model_name": "HTMLModel",
          "model_module_version": "1.5.0",
          "state": {
            "_dom_classes": [],
            "_model_module": "@jupyter-widgets/controls",
            "_model_module_version": "1.5.0",
            "_model_name": "HTMLModel",
            "_view_count": null,
            "_view_module": "@jupyter-widgets/controls",
            "_view_module_version": "1.5.0",
            "_view_name": "HTMLView",
            "description": "",
            "description_tooltip": null,
            "layout": "IPY_MODEL_66249308a1a749a8bebe0f97ee617bd9",
            "placeholder": "​",
            "style": "IPY_MODEL_8dfb7095073a4355a5283c6089a18e5c",
            "value": "merges.txt: 100%"
          }
        },
        "14a10a7f85aa4eaca16bd42a2443f9aa": {
          "model_module": "@jupyter-widgets/controls",
          "model_name": "FloatProgressModel",
          "model_module_version": "1.5.0",
          "state": {
            "_dom_classes": [],
            "_model_module": "@jupyter-widgets/controls",
            "_model_module_version": "1.5.0",
            "_model_name": "FloatProgressModel",
            "_view_count": null,
            "_view_module": "@jupyter-widgets/controls",
            "_view_module_version": "1.5.0",
            "_view_name": "ProgressView",
            "bar_style": "success",
            "description": "",
            "description_tooltip": null,
            "layout": "IPY_MODEL_55bd6997fad2489883cb528087256b36",
            "max": 456318,
            "min": 0,
            "orientation": "horizontal",
            "style": "IPY_MODEL_0a3fa94edb7b490c95ef975e9b6699cc",
            "value": 456318
          }
        },
        "ba8da38cdb3840d68276db3327ccaf99": {
          "model_module": "@jupyter-widgets/controls",
          "model_name": "HTMLModel",
          "model_module_version": "1.5.0",
          "state": {
            "_dom_classes": [],
            "_model_module": "@jupyter-widgets/controls",
            "_model_module_version": "1.5.0",
            "_model_name": "HTMLModel",
            "_view_count": null,
            "_view_module": "@jupyter-widgets/controls",
            "_view_module_version": "1.5.0",
            "_view_name": "HTMLView",
            "description": "",
            "description_tooltip": null,
            "layout": "IPY_MODEL_ab1660646eb44909b325fbc2ec2fe4b0",
            "placeholder": "​",
            "style": "IPY_MODEL_0fbf9719ba144fdfa5b613db142e6678",
            "value": " 456k/456k [00:00&lt;00:00, 3.47MB/s]"
          }
        },
        "4b11d10c67714c068105ae303fd52053": {
          "model_module": "@jupyter-widgets/base",
          "model_name": "LayoutModel",
          "model_module_version": "1.2.0",
          "state": {
            "_model_module": "@jupyter-widgets/base",
            "_model_module_version": "1.2.0",
            "_model_name": "LayoutModel",
            "_view_count": null,
            "_view_module": "@jupyter-widgets/base",
            "_view_module_version": "1.2.0",
            "_view_name": "LayoutView",
            "align_content": null,
            "align_items": null,
            "align_self": null,
            "border": null,
            "bottom": null,
            "display": null,
            "flex": null,
            "flex_flow": null,
            "grid_area": null,
            "grid_auto_columns": null,
            "grid_auto_flow": null,
            "grid_auto_rows": null,
            "grid_column": null,
            "grid_gap": null,
            "grid_row": null,
            "grid_template_areas": null,
            "grid_template_columns": null,
            "grid_template_rows": null,
            "height": null,
            "justify_content": null,
            "justify_items": null,
            "left": null,
            "margin": null,
            "max_height": null,
            "max_width": null,
            "min_height": null,
            "min_width": null,
            "object_fit": null,
            "object_position": null,
            "order": null,
            "overflow": null,
            "overflow_x": null,
            "overflow_y": null,
            "padding": null,
            "right": null,
            "top": null,
            "visibility": null,
            "width": null
          }
        },
        "66249308a1a749a8bebe0f97ee617bd9": {
          "model_module": "@jupyter-widgets/base",
          "model_name": "LayoutModel",
          "model_module_version": "1.2.0",
          "state": {
            "_model_module": "@jupyter-widgets/base",
            "_model_module_version": "1.2.0",
            "_model_name": "LayoutModel",
            "_view_count": null,
            "_view_module": "@jupyter-widgets/base",
            "_view_module_version": "1.2.0",
            "_view_name": "LayoutView",
            "align_content": null,
            "align_items": null,
            "align_self": null,
            "border": null,
            "bottom": null,
            "display": null,
            "flex": null,
            "flex_flow": null,
            "grid_area": null,
            "grid_auto_columns": null,
            "grid_auto_flow": null,
            "grid_auto_rows": null,
            "grid_column": null,
            "grid_gap": null,
            "grid_row": null,
            "grid_template_areas": null,
            "grid_template_columns": null,
            "grid_template_rows": null,
            "height": null,
            "justify_content": null,
            "justify_items": null,
            "left": null,
            "margin": null,
            "max_height": null,
            "max_width": null,
            "min_height": null,
            "min_width": null,
            "object_fit": null,
            "object_position": null,
            "order": null,
            "overflow": null,
            "overflow_x": null,
            "overflow_y": null,
            "padding": null,
            "right": null,
            "top": null,
            "visibility": null,
            "width": null
          }
        },
        "8dfb7095073a4355a5283c6089a18e5c": {
          "model_module": "@jupyter-widgets/controls",
          "model_name": "DescriptionStyleModel",
          "model_module_version": "1.5.0",
          "state": {
            "_model_module": "@jupyter-widgets/controls",
            "_model_module_version": "1.5.0",
            "_model_name": "DescriptionStyleModel",
            "_view_count": null,
            "_view_module": "@jupyter-widgets/base",
            "_view_module_version": "1.2.0",
            "_view_name": "StyleView",
            "description_width": ""
          }
        },
        "55bd6997fad2489883cb528087256b36": {
          "model_module": "@jupyter-widgets/base",
          "model_name": "LayoutModel",
          "model_module_version": "1.2.0",
          "state": {
            "_model_module": "@jupyter-widgets/base",
            "_model_module_version": "1.2.0",
            "_model_name": "LayoutModel",
            "_view_count": null,
            "_view_module": "@jupyter-widgets/base",
            "_view_module_version": "1.2.0",
            "_view_name": "LayoutView",
            "align_content": null,
            "align_items": null,
            "align_self": null,
            "border": null,
            "bottom": null,
            "display": null,
            "flex": null,
            "flex_flow": null,
            "grid_area": null,
            "grid_auto_columns": null,
            "grid_auto_flow": null,
            "grid_auto_rows": null,
            "grid_column": null,
            "grid_gap": null,
            "grid_row": null,
            "grid_template_areas": null,
            "grid_template_columns": null,
            "grid_template_rows": null,
            "height": null,
            "justify_content": null,
            "justify_items": null,
            "left": null,
            "margin": null,
            "max_height": null,
            "max_width": null,
            "min_height": null,
            "min_width": null,
            "object_fit": null,
            "object_position": null,
            "order": null,
            "overflow": null,
            "overflow_x": null,
            "overflow_y": null,
            "padding": null,
            "right": null,
            "top": null,
            "visibility": null,
            "width": null
          }
        },
        "0a3fa94edb7b490c95ef975e9b6699cc": {
          "model_module": "@jupyter-widgets/controls",
          "model_name": "ProgressStyleModel",
          "model_module_version": "1.5.0",
          "state": {
            "_model_module": "@jupyter-widgets/controls",
            "_model_module_version": "1.5.0",
            "_model_name": "ProgressStyleModel",
            "_view_count": null,
            "_view_module": "@jupyter-widgets/base",
            "_view_module_version": "1.2.0",
            "_view_name": "StyleView",
            "bar_color": null,
            "description_width": ""
          }
        },
        "ab1660646eb44909b325fbc2ec2fe4b0": {
          "model_module": "@jupyter-widgets/base",
          "model_name": "LayoutModel",
          "model_module_version": "1.2.0",
          "state": {
            "_model_module": "@jupyter-widgets/base",
            "_model_module_version": "1.2.0",
            "_model_name": "LayoutModel",
            "_view_count": null,
            "_view_module": "@jupyter-widgets/base",
            "_view_module_version": "1.2.0",
            "_view_name": "LayoutView",
            "align_content": null,
            "align_items": null,
            "align_self": null,
            "border": null,
            "bottom": null,
            "display": null,
            "flex": null,
            "flex_flow": null,
            "grid_area": null,
            "grid_auto_columns": null,
            "grid_auto_flow": null,
            "grid_auto_rows": null,
            "grid_column": null,
            "grid_gap": null,
            "grid_row": null,
            "grid_template_areas": null,
            "grid_template_columns": null,
            "grid_template_rows": null,
            "height": null,
            "justify_content": null,
            "justify_items": null,
            "left": null,
            "margin": null,
            "max_height": null,
            "max_width": null,
            "min_height": null,
            "min_width": null,
            "object_fit": null,
            "object_position": null,
            "order": null,
            "overflow": null,
            "overflow_x": null,
            "overflow_y": null,
            "padding": null,
            "right": null,
            "top": null,
            "visibility": null,
            "width": null
          }
        },
        "0fbf9719ba144fdfa5b613db142e6678": {
          "model_module": "@jupyter-widgets/controls",
          "model_name": "DescriptionStyleModel",
          "model_module_version": "1.5.0",
          "state": {
            "_model_module": "@jupyter-widgets/controls",
            "_model_module_version": "1.5.0",
            "_model_name": "DescriptionStyleModel",
            "_view_count": null,
            "_view_module": "@jupyter-widgets/base",
            "_view_module_version": "1.2.0",
            "_view_name": "StyleView",
            "description_width": ""
          }
        },
        "04c75a504c40413f99c8dae647e72560": {
          "model_module": "@jupyter-widgets/controls",
          "model_name": "HBoxModel",
          "model_module_version": "1.5.0",
          "state": {
            "_dom_classes": [],
            "_model_module": "@jupyter-widgets/controls",
            "_model_module_version": "1.5.0",
            "_model_name": "HBoxModel",
            "_view_count": null,
            "_view_module": "@jupyter-widgets/controls",
            "_view_module_version": "1.5.0",
            "_view_name": "HBoxView",
            "box_style": "",
            "children": [
              "IPY_MODEL_8ad24865a6894787bd2d8ad7f1a09486",
              "IPY_MODEL_44cd3fcde4544a3d988b6d919096745b",
              "IPY_MODEL_ed1b50203e944090a35e0631d19d6011"
            ],
            "layout": "IPY_MODEL_ec42c373fdc44599b517b4bd1fd5d238"
          }
        },
        "8ad24865a6894787bd2d8ad7f1a09486": {
          "model_module": "@jupyter-widgets/controls",
          "model_name": "HTMLModel",
          "model_module_version": "1.5.0",
          "state": {
            "_dom_classes": [],
            "_model_module": "@jupyter-widgets/controls",
            "_model_module_version": "1.5.0",
            "_model_name": "HTMLModel",
            "_view_count": null,
            "_view_module": "@jupyter-widgets/controls",
            "_view_module_version": "1.5.0",
            "_view_name": "HTMLView",
            "description": "",
            "description_tooltip": null,
            "layout": "IPY_MODEL_27d37fe109a747b3a33b7b54ea26ffe2",
            "placeholder": "​",
            "style": "IPY_MODEL_21bf18b408e143f0bd0bb7f5cd0c91e4",
            "value": "tokenizer.json: 100%"
          }
        },
        "44cd3fcde4544a3d988b6d919096745b": {
          "model_module": "@jupyter-widgets/controls",
          "model_name": "FloatProgressModel",
          "model_module_version": "1.5.0",
          "state": {
            "_dom_classes": [],
            "_model_module": "@jupyter-widgets/controls",
            "_model_module_version": "1.5.0",
            "_model_name": "FloatProgressModel",
            "_view_count": null,
            "_view_module": "@jupyter-widgets/controls",
            "_view_module_version": "1.5.0",
            "_view_name": "ProgressView",
            "bar_style": "success",
            "description": "",
            "description_tooltip": null,
            "layout": "IPY_MODEL_f91b1912b7e64bd8ad5edb5d4cbe1f40",
            "max": 1355256,
            "min": 0,
            "orientation": "horizontal",
            "style": "IPY_MODEL_d50f080c9da84a11b81a1195c80be900",
            "value": 1355256
          }
        },
        "ed1b50203e944090a35e0631d19d6011": {
          "model_module": "@jupyter-widgets/controls",
          "model_name": "HTMLModel",
          "model_module_version": "1.5.0",
          "state": {
            "_dom_classes": [],
            "_model_module": "@jupyter-widgets/controls",
            "_model_module_version": "1.5.0",
            "_model_name": "HTMLModel",
            "_view_count": null,
            "_view_module": "@jupyter-widgets/controls",
            "_view_module_version": "1.5.0",
            "_view_name": "HTMLView",
            "description": "",
            "description_tooltip": null,
            "layout": "IPY_MODEL_2b6101dc2a9743af937cbfca0305c163",
            "placeholder": "​",
            "style": "IPY_MODEL_a79f1c2d9ed747b8b58f8b4df129c5bb",
            "value": " 1.36M/1.36M [00:00&lt;00:00, 5.21MB/s]"
          }
        },
        "ec42c373fdc44599b517b4bd1fd5d238": {
          "model_module": "@jupyter-widgets/base",
          "model_name": "LayoutModel",
          "model_module_version": "1.2.0",
          "state": {
            "_model_module": "@jupyter-widgets/base",
            "_model_module_version": "1.2.0",
            "_model_name": "LayoutModel",
            "_view_count": null,
            "_view_module": "@jupyter-widgets/base",
            "_view_module_version": "1.2.0",
            "_view_name": "LayoutView",
            "align_content": null,
            "align_items": null,
            "align_self": null,
            "border": null,
            "bottom": null,
            "display": null,
            "flex": null,
            "flex_flow": null,
            "grid_area": null,
            "grid_auto_columns": null,
            "grid_auto_flow": null,
            "grid_auto_rows": null,
            "grid_column": null,
            "grid_gap": null,
            "grid_row": null,
            "grid_template_areas": null,
            "grid_template_columns": null,
            "grid_template_rows": null,
            "height": null,
            "justify_content": null,
            "justify_items": null,
            "left": null,
            "margin": null,
            "max_height": null,
            "max_width": null,
            "min_height": null,
            "min_width": null,
            "object_fit": null,
            "object_position": null,
            "order": null,
            "overflow": null,
            "overflow_x": null,
            "overflow_y": null,
            "padding": null,
            "right": null,
            "top": null,
            "visibility": null,
            "width": null
          }
        },
        "27d37fe109a747b3a33b7b54ea26ffe2": {
          "model_module": "@jupyter-widgets/base",
          "model_name": "LayoutModel",
          "model_module_version": "1.2.0",
          "state": {
            "_model_module": "@jupyter-widgets/base",
            "_model_module_version": "1.2.0",
            "_model_name": "LayoutModel",
            "_view_count": null,
            "_view_module": "@jupyter-widgets/base",
            "_view_module_version": "1.2.0",
            "_view_name": "LayoutView",
            "align_content": null,
            "align_items": null,
            "align_self": null,
            "border": null,
            "bottom": null,
            "display": null,
            "flex": null,
            "flex_flow": null,
            "grid_area": null,
            "grid_auto_columns": null,
            "grid_auto_flow": null,
            "grid_auto_rows": null,
            "grid_column": null,
            "grid_gap": null,
            "grid_row": null,
            "grid_template_areas": null,
            "grid_template_columns": null,
            "grid_template_rows": null,
            "height": null,
            "justify_content": null,
            "justify_items": null,
            "left": null,
            "margin": null,
            "max_height": null,
            "max_width": null,
            "min_height": null,
            "min_width": null,
            "object_fit": null,
            "object_position": null,
            "order": null,
            "overflow": null,
            "overflow_x": null,
            "overflow_y": null,
            "padding": null,
            "right": null,
            "top": null,
            "visibility": null,
            "width": null
          }
        },
        "21bf18b408e143f0bd0bb7f5cd0c91e4": {
          "model_module": "@jupyter-widgets/controls",
          "model_name": "DescriptionStyleModel",
          "model_module_version": "1.5.0",
          "state": {
            "_model_module": "@jupyter-widgets/controls",
            "_model_module_version": "1.5.0",
            "_model_name": "DescriptionStyleModel",
            "_view_count": null,
            "_view_module": "@jupyter-widgets/base",
            "_view_module_version": "1.2.0",
            "_view_name": "StyleView",
            "description_width": ""
          }
        },
        "f91b1912b7e64bd8ad5edb5d4cbe1f40": {
          "model_module": "@jupyter-widgets/base",
          "model_name": "LayoutModel",
          "model_module_version": "1.2.0",
          "state": {
            "_model_module": "@jupyter-widgets/base",
            "_model_module_version": "1.2.0",
            "_model_name": "LayoutModel",
            "_view_count": null,
            "_view_module": "@jupyter-widgets/base",
            "_view_module_version": "1.2.0",
            "_view_name": "LayoutView",
            "align_content": null,
            "align_items": null,
            "align_self": null,
            "border": null,
            "bottom": null,
            "display": null,
            "flex": null,
            "flex_flow": null,
            "grid_area": null,
            "grid_auto_columns": null,
            "grid_auto_flow": null,
            "grid_auto_rows": null,
            "grid_column": null,
            "grid_gap": null,
            "grid_row": null,
            "grid_template_areas": null,
            "grid_template_columns": null,
            "grid_template_rows": null,
            "height": null,
            "justify_content": null,
            "justify_items": null,
            "left": null,
            "margin": null,
            "max_height": null,
            "max_width": null,
            "min_height": null,
            "min_width": null,
            "object_fit": null,
            "object_position": null,
            "order": null,
            "overflow": null,
            "overflow_x": null,
            "overflow_y": null,
            "padding": null,
            "right": null,
            "top": null,
            "visibility": null,
            "width": null
          }
        },
        "d50f080c9da84a11b81a1195c80be900": {
          "model_module": "@jupyter-widgets/controls",
          "model_name": "ProgressStyleModel",
          "model_module_version": "1.5.0",
          "state": {
            "_model_module": "@jupyter-widgets/controls",
            "_model_module_version": "1.5.0",
            "_model_name": "ProgressStyleModel",
            "_view_count": null,
            "_view_module": "@jupyter-widgets/base",
            "_view_module_version": "1.2.0",
            "_view_name": "StyleView",
            "bar_color": null,
            "description_width": ""
          }
        },
        "2b6101dc2a9743af937cbfca0305c163": {
          "model_module": "@jupyter-widgets/base",
          "model_name": "LayoutModel",
          "model_module_version": "1.2.0",
          "state": {
            "_model_module": "@jupyter-widgets/base",
            "_model_module_version": "1.2.0",
            "_model_name": "LayoutModel",
            "_view_count": null,
            "_view_module": "@jupyter-widgets/base",
            "_view_module_version": "1.2.0",
            "_view_name": "LayoutView",
            "align_content": null,
            "align_items": null,
            "align_self": null,
            "border": null,
            "bottom": null,
            "display": null,
            "flex": null,
            "flex_flow": null,
            "grid_area": null,
            "grid_auto_columns": null,
            "grid_auto_flow": null,
            "grid_auto_rows": null,
            "grid_column": null,
            "grid_gap": null,
            "grid_row": null,
            "grid_template_areas": null,
            "grid_template_columns": null,
            "grid_template_rows": null,
            "height": null,
            "justify_content": null,
            "justify_items": null,
            "left": null,
            "margin": null,
            "max_height": null,
            "max_width": null,
            "min_height": null,
            "min_width": null,
            "object_fit": null,
            "object_position": null,
            "order": null,
            "overflow": null,
            "overflow_x": null,
            "overflow_y": null,
            "padding": null,
            "right": null,
            "top": null,
            "visibility": null,
            "width": null
          }
        },
        "a79f1c2d9ed747b8b58f8b4df129c5bb": {
          "model_module": "@jupyter-widgets/controls",
          "model_name": "DescriptionStyleModel",
          "model_module_version": "1.5.0",
          "state": {
            "_model_module": "@jupyter-widgets/controls",
            "_model_module_version": "1.5.0",
            "_model_name": "DescriptionStyleModel",
            "_view_count": null,
            "_view_module": "@jupyter-widgets/base",
            "_view_module_version": "1.2.0",
            "_view_name": "StyleView",
            "description_width": ""
          }
        }
      }
    }
  },
  "nbformat": 4,
  "nbformat_minor": 0
}